{
 "cells": [
  {
   "cell_type": "markdown",
   "metadata": {},
   "source": [
    "# This code will assign taxonomy to the TIR data"
   ]
  },
  {
   "cell_type": "code",
   "execution_count": 1,
   "metadata": {},
   "outputs": [],
   "source": [
    "import qiime2\n",
    "from qiime2 import Artifact\n",
    "from qiime2.plugins.taxa.methods import filter_table\n",
    "from qiime2.plugins.feature_table.methods import filter_samples\n",
    "from qiime2.plugins.feature_table.methods import filter_features\n",
    "from qiime2.plugins.taxa.methods import filter_table, collapse\n",
    "from qiime2.plugins.feature_table.methods import rarefy\n",
    "from qiime2.plugins.emperor.visualizers import plot\n",
    "from qiime2.metadata import Metadata\n",
    "from qiime2.plugins.taxa.visualizers import barplot\n",
    "\n",
    "\n",
    "import os\n",
    "from os.path import abspath,exists,join\n",
    "from collections import defaultdict"
   ]
  },
  {
   "cell_type": "markdown",
   "metadata": {},
   "source": [
    "# Load the needed files."
   ]
  },
  {
   "cell_type": "code",
   "execution_count": 3,
   "metadata": {},
   "outputs": [],
   "source": [
    "metadata = Metadata.load(\"../input/GCMP_TIR_genomes_mapping.txt\")\n",
    "taxonomy = Artifact.load(\"../input/silva_metaxa2_reference_taxonomy.qza\")\n",
    "# files to merged as the decontaminated files\n",
    "feature_table_decon_all_1000 = Artifact.load(\"../input/feature_tables/feature_table_decon_all_1000.qza\")\n",
    "feature_table_decon_mucus_1000 = Artifact.load(\"../input/feature_tables/feature_table_decon_mucus_1000.qza\")\n",
    "feature_table_decon_skeleton_1000 = Artifact.load(\"../input/feature_tables/feature_table_decon_skeleton_1000.qza\")\n",
    "feature_table_decon_tissue_1000 = Artifact.load(\"../input/feature_tables/feature_table_decon_tissue_1000.qza\")"
   ]
  },
  {
   "cell_type": "code",
   "execution_count": 4,
   "metadata": {},
   "outputs": [],
   "source": [
    "feature_tables_decon_1000 = {\"mucus\":feature_table_decon_mucus_1000, \"tissue\":feature_table_decon_tissue_1000, \"skeleton\":feature_table_decon_skeleton_1000, \"all\":feature_table_decon_all_1000}"
   ]
  },
  {
   "cell_type": "code",
   "execution_count": 5,
   "metadata": {},
   "outputs": [],
   "source": [
    "output_filepath = abspath(\"../output/beta_diversity/\")\n",
    "output_dir = \"../output/beta_diversity/\"\n",
    "input_filepath = abspath(\"../input\")"
   ]
  },
  {
   "cell_type": "code",
   "execution_count": 6,
   "metadata": {},
   "outputs": [
    {
     "name": "stdout",
     "output_type": "stream",
     "text": [
      "Analyzing data using the mucus\n",
      "Saving results to: ../output/beta_diversity/TIR_mucus_feature_table_filtered.qza\n",
      "Done with processing mucus feature table!\n",
      "\n",
      "\n",
      "Analyzing data using the tissue\n",
      "Saving results to: ../output/beta_diversity/TIR_tissue_feature_table_filtered.qza\n",
      "Done with processing tissue feature table!\n",
      "\n",
      "\n",
      "Analyzing data using the skeleton\n",
      "Saving results to: ../output/beta_diversity/TIR_skeleton_feature_table_filtered.qza\n",
      "Done with processing skeleton feature table!\n",
      "\n",
      "\n",
      "Analyzing data using the all\n",
      "Saving results to: ../output/beta_diversity/TIR_all_feature_table_filtered.qza\n",
      "Done with processing all feature table!\n",
      "\n",
      "\n"
     ]
    }
   ],
   "source": [
    "#filter the feature tables so that they only have the TIR genome files\n",
    "TIR_filtered_feature_tables = {}\n",
    "for compartment,table in feature_tables_decon_1000.items():\n",
    "    print(f\"Analyzing data using the {compartment}\")\n",
    "    #Qiime2 API does not return a single object, but a named Tuple struture with each output.\n",
    "    filter_table_results = filter_samples(table,metadata=metadata)\n",
    "    #filter_table_results = filter_samples()\n",
    "    filtered_table = filter_table_results.filtered_table\n",
    "    \n",
    "    #save the file\n",
    "    output_filename = f\"TIR_{compartment}_feature_table_filtered.qza\"\n",
    "    output_filepath = join(output_dir,output_filename)\n",
    "    print(f\"Saving results to: {output_filepath}\")\n",
    "    filtered_table.save(output_filepath)\n",
    "    \n",
    "    #store as a dict so it can be called in the next step.\n",
    "    TIR_filtered_feature_tables[compartment]=filtered_table\n",
    "    print(f\"Done with processing {compartment} feature table!\\n\\n\")"
   ]
  },
  {
   "cell_type": "code",
   "execution_count": 7,
   "metadata": {},
   "outputs": [
    {
     "name": "stdout",
     "output_type": "stream",
     "text": [
      "Processing mucus!\n",
      "Saving the mucus barplot to: ../output/beta_diversity/TIR_mucus_taxa_barplot.qzv!\n",
      "Processing tissue!\n",
      "Saving the tissue barplot to: ../output/beta_diversity/TIR_tissue_taxa_barplot.qzv!\n",
      "Processing skeleton!\n",
      "Saving the skeleton barplot to: ../output/beta_diversity/TIR_skeleton_taxa_barplot.qzv!\n",
      "Processing all!\n",
      "Saving the all barplot to: ../output/beta_diversity/TIR_all_taxa_barplot.qzv!\n"
     ]
    }
   ],
   "source": [
    "#now that tables are filtered to match the metadata taxabar plots can be run\n",
    "for compartment,table in TIR_filtered_feature_tables.items():\n",
    "    print(f\"Processing {compartment}!\")\n",
    "    taxa_barplot = barplot(table = table, taxonomy = taxonomy, metadata = metadata)\n",
    "    taxa_barplot_visualization = taxa_barplot.visualization\n",
    "    \n",
    "    output_filename = f\"TIR_{compartment}_taxa_barplot.qzv\"\n",
    "    output_filepath = join(output_dir,output_filename)\n",
    "    print(f\"Saving the {compartment} barplot to: {output_filepath}!\")\n",
    "    taxa_barplot_visualization.save(output_filepath)"
   ]
  },
  {
   "cell_type": "code",
   "execution_count": null,
   "metadata": {},
   "outputs": [],
   "source": []
  }
 ],
 "metadata": {
  "kernelspec": {
   "display_name": "Python 3 (ipykernel)",
   "language": "python",
   "name": "python3"
  },
  "language_info": {
   "codemirror_mode": {
    "name": "ipython",
    "version": 3
   },
   "file_extension": ".py",
   "mimetype": "text/x-python",
   "name": "python",
   "nbconvert_exporter": "python",
   "pygments_lexer": "ipython3",
   "version": "3.8.13"
  }
 },
 "nbformat": 4,
 "nbformat_minor": 4
}
