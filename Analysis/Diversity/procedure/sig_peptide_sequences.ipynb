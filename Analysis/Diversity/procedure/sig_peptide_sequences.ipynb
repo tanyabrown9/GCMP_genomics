{
 "cells": [
  {
   "cell_type": "markdown",
   "id": "f4c19372-4858-4fa6-b12b-26a20314b440",
   "metadata": {},
   "source": [
    "# This code will extract the longest open reading fasta outputs form the pep file created in transdecoder. Then the file is used in CD hit to find if any of the sequences are 90% similar to each other."
   ]
  },
  {
   "cell_type": "code",
   "execution_count": 1,
   "id": "efc89483-6c54-4c99-8084-57cc782ceff1",
   "metadata": {},
   "outputs": [],
   "source": [
    "from collections import defaultdict\n",
    "import pandas as pd\n",
    "from os.path import exists, join\n",
    "from Bio import SeqIO\n",
    "from pycdhit import cd_hit, read_clstr\n",
    "import pdb\n",
    "import os\n",
    "import re"
   ]
  },
  {
   "cell_type": "markdown",
   "id": "32d138fb-a61f-41fa-8498-26d5e3d9b96d",
   "metadata": {},
   "source": [
    "Import all the files needed"
   ]
  },
  {
   "cell_type": "code",
   "execution_count": 84,
   "id": "b5c831e1-a159-41c7-85f0-90c89ba65073",
   "metadata": {},
   "outputs": [
    {
     "name": "stdout",
     "output_type": "stream",
     "text": [
      "Confirmed that required file or directory ../input/ exists.\n",
      "Confirmed that required file or directory ../input/cnidaria/longest_orfs/transdecoder_part1/S_pistillata_longest_orfs.pep exists.\n",
      "Confirmed that required file or directory ../output/parsed_files exists.\n"
     ]
    }
   ],
   "source": [
    "input_longest_orf_dir = \"../input/cnidaria/longest_orfs/transdecoder_part1/S_pistillata_longest_orfs.pep\"\n",
    "\n",
    "input_dir = \"../input/\"\n",
    "\n",
    "seq_id_file = \"../input/cnidaria/S_pistillata_tir_sig.txt\"\n",
    "\n",
    "output_file_parsed = \"../output/cnidaria/parsed_sig_pep/parsed_sig_pep_results_S_pistillata.fasta\"\n",
    "output_dir_cdhit = \"../output/cnidaria/cdhit/S_pistillata_cdhit_out\"\n",
    "output_file_cdhit = \"../output/cnidaria/cdhit/S_pistillata_cdhit_out.clstr\"\n",
    "output_dir = \"../output/parsed_files\"\n",
    "\n",
    "\n",
    "\n",
    "required = [input_dir,input_longest_orf_dir,output_dir]\n",
    "\n",
    "for r in required:\n",
    "    if not exists(r):\n",
    "        raise FileNotFoundError(f\"The specified hmmer file {r} does not seem to be in the specified path.\")\n",
    "    print(f\"Confirmed that required file or directory {r} exists.\")"
   ]
  },
  {
   "cell_type": "markdown",
   "id": "b3c0015f-9122-4d4e-bda2-13d15d57612d",
   "metadata": {},
   "source": [
    "We are using Biopython to parse the significant sequences out of the orginal pep file and placing them into a new file."
   ]
  },
  {
   "cell_type": "code",
   "execution_count": 75,
   "id": "095b7bd5-7a14-4177-a7a1-abe3d7af0e9d",
   "metadata": {},
   "outputs": [],
   "source": [
    "#open files\n",
    "pep_file = open(input_longest_orf_dir, 'r')\n",
    "select_seq_out = open(output_file_parsed, 'w')"
   ]
  },
  {
   "cell_type": "code",
   "execution_count": 76,
   "id": "532502bb-1103-4f5e-b8a0-2016ce32b3e4",
   "metadata": {},
   "outputs": [],
   "source": [
    "my_sequences = []\n",
    "with open(seq_id_file) as seq_ids:\n",
    "    for line in seq_ids:\n",
    "        my_sequences.extend(line.split(' '))"
   ]
  },
  {
   "cell_type": "code",
   "execution_count": 77,
   "id": "be0a4786-442c-4f1f-bfab-eebe13b63c22",
   "metadata": {},
   "outputs": [
    {
     "data": {
      "text/plain": [
       "<function TextIOWrapper.close()>"
      ]
     },
     "execution_count": 77,
     "metadata": {},
     "output_type": "execute_result"
    }
   ],
   "source": [
    "for record in SeqIO.parse(pep_file, 'fasta'):\n",
    "    for items in my_sequences:\n",
    "        if items.strip() == record.id:\n",
    "            select_seq_out.write(\">\" + record.id + \"\\n\")\n",
    "            select_seq_out.write(str(record.seq) + \"\\n\")\n",
    "            \n",
    "pep_file.close()\n",
    "select_seq_out.close"
   ]
  },
  {
   "cell_type": "markdown",
   "id": "2bebc458-3382-444f-8290-ab9ebeab4de8",
   "metadata": {},
   "source": [
    "# Run CD-Hit"
   ]
  },
  {
   "cell_type": "code",
   "execution_count": 85,
   "id": "71b7abe4-a662-4069-9c2d-8b29bb0f0390",
   "metadata": {},
   "outputs": [],
   "source": [
    "#The file needs to be reopened as there is an error since its open with a 'w' in the previous code section!\n",
    "seq_out = output_file_parsed"
   ]
  },
  {
   "cell_type": "code",
   "execution_count": 86,
   "id": "0dd9ffa2-7048-4e2d-8f1b-69ba8dd4f34f",
   "metadata": {},
   "outputs": [],
   "source": [
    "# run cd-hit on the records\n",
    "res = cd_hit(\n",
    "    i=seq_out,\n",
    "    o=output_dir_cdhit,\n",
    "    c=0.9,\n",
    "    d=0,\n",
    "    sc=1\n",
    ")\n",
    "df_clstr = read_clstr(output_file_cdhit)"
   ]
  },
  {
   "cell_type": "code",
   "execution_count": null,
   "id": "cdc19fa4-6214-48e6-8665-97ba33d43bbe",
   "metadata": {},
   "outputs": [],
   "source": []
  }
 ],
 "metadata": {
  "kernelspec": {
   "display_name": "Python 3 (ipykernel)",
   "language": "python",
   "name": "python3"
  },
  "language_info": {
   "codemirror_mode": {
    "name": "ipython",
    "version": 3
   },
   "file_extension": ".py",
   "mimetype": "text/x-python",
   "name": "python",
   "nbconvert_exporter": "python",
   "pygments_lexer": "ipython3",
   "version": "3.8.10"
  }
 },
 "nbformat": 4,
 "nbformat_minor": 5
}
