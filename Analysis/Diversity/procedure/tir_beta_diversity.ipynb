{
 "cells": [
  {
   "cell_type": "markdown",
   "metadata": {},
   "source": [
    "# Beta Diversity Analysis"
   ]
  },
  {
   "cell_type": "markdown",
   "metadata": {},
   "source": [
    "This code will run the beta diversity analysis on the GCMP tissue compartment samples using phylogenetic trees generated with the greengenes and Silva databases."
   ]
  },
  {
   "cell_type": "markdown",
   "metadata": {},
   "source": [
    "First we need to load all the plugins we will use for this analysis"
   ]
  },
  {
   "cell_type": "code",
   "execution_count": 1,
   "metadata": {},
   "outputs": [],
   "source": [
    "import qiime2\n",
    "from qiime2 import Artifact\n",
    "try:\n",
    "    from qiime2.plugins.diversity.methods import beta\n",
    "except:\n",
    "    from qiime2.plugins.diversity.pipelines import beta\n",
    "from qiime2.plugins.diversity.pipelines import beta_phylogenetic\n",
    "from qiime2.plugins.diversity.visualizers import beta_group_significance\n",
    "from qiime2.plugins.diversity.methods import pcoa\n",
    "from qiime2.plugins import diversity\n",
    "from qiime2.plugins.emperor.visualizers import plot\n",
    "from qiime2.metadata import Metadata\n",
    "from os.path import abspath,exists,join\n",
    "import shutil\n"
   ]
  },
  {
   "cell_type": "markdown",
   "metadata": {},
   "source": [
    "# Load Data"
   ]
  },
  {
   "cell_type": "markdown",
   "metadata": {},
   "source": [
    "Load the tissue compartment feature tables and merge them into one dictionary loop."
   ]
  },
  {
   "cell_type": "code",
   "execution_count": 2,
   "metadata": {
    "scrolled": true
   },
   "outputs": [],
   "source": [
    "#Check that required files exist\n",
    "phylo_tree = Artifact.load(\"../input/insertion-tree_silva_GCMP.qza\")\n",
    "phylo_tree_physeq = Artifact.load(\"../input/physeq.noncton-rooted-tree.qza\")\n",
    "metadata = Metadata.load(\"../input/GCMP_EMP_map_r28_no_empty_samples.txt\")\n",
    "\n",
    "#these files will be merged as a dictionary for future analysis\n",
    "feature_table_decon_all_1000 = Artifact.load(\"../input/feature_tables/feature_table_decon_all_1000.qza\")\n",
    "feature_table_decon_mucus_1000 = Artifact.load(\"../input/feature_tables/feature_table_decon_mucus_1000.qza\")\n",
    "feature_table_decon_skeleton_1000 = Artifact.load(\"../input/feature_tables/feature_table_decon_skeleton_1000.qza\")\n",
    "feature_table_decon_tissue_1000 = Artifact.load(\"../input/feature_tables/feature_table_decon_tissue_1000.qza\")\n",
    "#feature_table_decon_all_1000 = Artifact.load(\"../input/feature_tables/feature_table_decon_all_1000.qza\")"
   ]
  },
  {
   "cell_type": "code",
   "execution_count": 3,
   "metadata": {},
   "outputs": [],
   "source": [
    "#need to define dictionary for the loop\n",
    "#feature_tables_silva_m2_1000 = {\"mucus\":feature_table_silva_m2_mucus_1000, \"tissue\":feature_table_silva_m2_tissue_1000, \"skeleton\":feature_table_silva_m2_skeleton_1000}\n",
    "#feature_tables_silva_m2_1000 = {\"all\":feature_table_silva_m2_all_1000}\n",
    "feature_tables_decon_1000 = {\"mucus\":feature_table_decon_mucus_1000, \"tissue\":feature_table_decon_tissue_1000, \"skeleton\":feature_table_decon_skeleton_1000, \"all\":feature_table_decon_all_1000}"
   ]
  },
  {
   "cell_type": "markdown",
   "metadata": {},
   "source": [
    "# Beta Diversity Loop"
   ]
  },
  {
   "cell_type": "markdown",
   "metadata": {},
   "source": [
    "This code runs beta diversity using the phylogenetic tree generated using the greengenes or silva database. The feature table and phylogenetic tree should match the database used."
   ]
  },
  {
   "cell_type": "markdown",
   "metadata": {},
   "source": [
    "Note: This code appears to work for \"sample_type_EMP\" but not \"reef_name\" when pairwise is set to true. If I use reef name I get an error saying that I have some single values which I can't seem to find."
   ]
  },
  {
   "cell_type": "code",
   "execution_count": 4,
   "metadata": {},
   "outputs": [
    {
     "name": "stdout",
     "output_type": "stream",
     "text": [
      "Calculating beta diversity for mucus using weighted_unifrac\n",
      "Calculating beta diversity metrics for mucus using Huang_Roy_tree_name\n",
      "Saveing significant results to ../output/beta_phylo_permanova_mucus_silva_m2_weighted_unifrac_Huang_Roy_tree_name.qzv\n"
     ]
    },
    {
     "name": "stderr",
     "output_type": "stream",
     "text": [
      "/home/tanya/anaconda3/envs/qiime2-2022.2/lib/python3.8/site-packages/skbio/stats/ordination/_principal_coordinate_analysis.py:143: RuntimeWarning: The result contains negative eigenvalues. Please compare their magnitude with the magnitude of some of the largest positive eigenvalues. If the negative ones are smaller, it's probably safe to ignore them, but if they are large in magnitude, the results won't be useful. See the Notes section for more details. The smallest eigenvalue is -2.3782706233974835 and the largest is 63.527352080704546.\n",
      "  warn(\n"
     ]
    },
    {
     "name": "stdout",
     "output_type": "stream",
     "text": [
      "Saveing the raw pcoa results to ../output/beta_phylo_pcoa_mucus_silva_m2_weighted_unifrac_Huang_Roy_tree_name.qza\n",
      "Saveing the pcoa emperor plot to ../output/beta_phylo_emperor_pcoa_mucus_silva_m2_weighted_unifrac_Huang_Roy_tree_name.qzv\n",
      "Calculating beta diversity for mucus using unweighted_unifrac\n",
      "Calculating beta diversity metrics for mucus using Huang_Roy_tree_name\n",
      "Saveing significant results to ../output/beta_phylo_permanova_mucus_silva_m2_unweighted_unifrac_Huang_Roy_tree_name.qzv\n"
     ]
    },
    {
     "name": "stderr",
     "output_type": "stream",
     "text": [
      "/home/tanya/anaconda3/envs/qiime2-2022.2/lib/python3.8/site-packages/skbio/stats/ordination/_principal_coordinate_analysis.py:143: RuntimeWarning: The result contains negative eigenvalues. Please compare their magnitude with the magnitude of some of the largest positive eigenvalues. If the negative ones are smaller, it's probably safe to ignore them, but if they are large in magnitude, the results won't be useful. See the Notes section for more details. The smallest eigenvalue is -0.03165398514697379 and the largest is 14.42288765135691.\n",
      "  warn(\n"
     ]
    },
    {
     "name": "stdout",
     "output_type": "stream",
     "text": [
      "Saveing the raw pcoa results to ../output/beta_phylo_pcoa_mucus_silva_m2_unweighted_unifrac_Huang_Roy_tree_name.qza\n",
      "Saveing the pcoa emperor plot to ../output/beta_phylo_emperor_pcoa_mucus_silva_m2_unweighted_unifrac_Huang_Roy_tree_name.qzv\n",
      "Calculating beta diversity for tissue using weighted_unifrac\n",
      "Calculating beta diversity metrics for tissue using Huang_Roy_tree_name\n",
      "Saveing significant results to ../output/beta_phylo_permanova_tissue_silva_m2_weighted_unifrac_Huang_Roy_tree_name.qzv\n"
     ]
    },
    {
     "name": "stderr",
     "output_type": "stream",
     "text": [
      "/home/tanya/anaconda3/envs/qiime2-2022.2/lib/python3.8/site-packages/skbio/stats/ordination/_principal_coordinate_analysis.py:143: RuntimeWarning: The result contains negative eigenvalues. Please compare their magnitude with the magnitude of some of the largest positive eigenvalues. If the negative ones are smaller, it's probably safe to ignore them, but if they are large in magnitude, the results won't be useful. See the Notes section for more details. The smallest eigenvalue is -2.3363059562962616 and the largest is 86.57045025427323.\n",
      "  warn(\n"
     ]
    },
    {
     "name": "stdout",
     "output_type": "stream",
     "text": [
      "Saveing the raw pcoa results to ../output/beta_phylo_pcoa_tissue_silva_m2_weighted_unifrac_Huang_Roy_tree_name.qza\n",
      "Saveing the pcoa emperor plot to ../output/beta_phylo_emperor_pcoa_tissue_silva_m2_weighted_unifrac_Huang_Roy_tree_name.qzv\n",
      "Calculating beta diversity for tissue using unweighted_unifrac\n",
      "Calculating beta diversity metrics for tissue using Huang_Roy_tree_name\n",
      "Saveing significant results to ../output/beta_phylo_permanova_tissue_silva_m2_unweighted_unifrac_Huang_Roy_tree_name.qzv\n"
     ]
    },
    {
     "name": "stderr",
     "output_type": "stream",
     "text": [
      "/home/tanya/anaconda3/envs/qiime2-2022.2/lib/python3.8/site-packages/skbio/stats/ordination/_principal_coordinate_analysis.py:143: RuntimeWarning: The result contains negative eigenvalues. Please compare their magnitude with the magnitude of some of the largest positive eigenvalues. If the negative ones are smaller, it's probably safe to ignore them, but if they are large in magnitude, the results won't be useful. See the Notes section for more details. The smallest eigenvalue is -0.01856719104755789 and the largest is 15.262360379672211.\n",
      "  warn(\n"
     ]
    },
    {
     "name": "stdout",
     "output_type": "stream",
     "text": [
      "Saveing the raw pcoa results to ../output/beta_phylo_pcoa_tissue_silva_m2_unweighted_unifrac_Huang_Roy_tree_name.qza\n",
      "Saveing the pcoa emperor plot to ../output/beta_phylo_emperor_pcoa_tissue_silva_m2_unweighted_unifrac_Huang_Roy_tree_name.qzv\n",
      "Calculating beta diversity for skeleton using weighted_unifrac\n",
      "Calculating beta diversity metrics for skeleton using Huang_Roy_tree_name\n",
      "Saveing significant results to ../output/beta_phylo_permanova_skeleton_silva_m2_weighted_unifrac_Huang_Roy_tree_name.qzv\n"
     ]
    },
    {
     "name": "stderr",
     "output_type": "stream",
     "text": [
      "/home/tanya/anaconda3/envs/qiime2-2022.2/lib/python3.8/site-packages/skbio/stats/ordination/_principal_coordinate_analysis.py:143: RuntimeWarning: The result contains negative eigenvalues. Please compare their magnitude with the magnitude of some of the largest positive eigenvalues. If the negative ones are smaller, it's probably safe to ignore them, but if they are large in magnitude, the results won't be useful. See the Notes section for more details. The smallest eigenvalue is -3.7408319280890705 and the largest is 135.3243446893827.\n",
      "  warn(\n"
     ]
    },
    {
     "name": "stdout",
     "output_type": "stream",
     "text": [
      "Saveing the raw pcoa results to ../output/beta_phylo_pcoa_skeleton_silva_m2_weighted_unifrac_Huang_Roy_tree_name.qza\n",
      "Saveing the pcoa emperor plot to ../output/beta_phylo_emperor_pcoa_skeleton_silva_m2_weighted_unifrac_Huang_Roy_tree_name.qzv\n",
      "Calculating beta diversity for skeleton using unweighted_unifrac\n",
      "Calculating beta diversity metrics for skeleton using Huang_Roy_tree_name\n",
      "Saveing significant results to ../output/beta_phylo_permanova_skeleton_silva_m2_unweighted_unifrac_Huang_Roy_tree_name.qzv\n",
      "Saveing the raw pcoa results to ../output/beta_phylo_pcoa_skeleton_silva_m2_unweighted_unifrac_Huang_Roy_tree_name.qza\n",
      "Saveing the pcoa emperor plot to ../output/beta_phylo_emperor_pcoa_skeleton_silva_m2_unweighted_unifrac_Huang_Roy_tree_name.qzv\n",
      "Calculating beta diversity for all using weighted_unifrac\n",
      "Calculating beta diversity metrics for all using Huang_Roy_tree_name\n",
      "Saveing significant results to ../output/beta_phylo_permanova_all_silva_m2_weighted_unifrac_Huang_Roy_tree_name.qzv\n"
     ]
    },
    {
     "name": "stderr",
     "output_type": "stream",
     "text": [
      "/home/tanya/anaconda3/envs/qiime2-2022.2/lib/python3.8/site-packages/skbio/stats/ordination/_principal_coordinate_analysis.py:143: RuntimeWarning: The result contains negative eigenvalues. Please compare their magnitude with the magnitude of some of the largest positive eigenvalues. If the negative ones are smaller, it's probably safe to ignore them, but if they are large in magnitude, the results won't be useful. See the Notes section for more details. The smallest eigenvalue is -13.66881752174468 and the largest is 301.1608084266974.\n",
      "  warn(\n"
     ]
    },
    {
     "name": "stdout",
     "output_type": "stream",
     "text": [
      "Saveing the raw pcoa results to ../output/beta_phylo_pcoa_all_silva_m2_weighted_unifrac_Huang_Roy_tree_name.qza\n",
      "Saveing the pcoa emperor plot to ../output/beta_phylo_emperor_pcoa_all_silva_m2_weighted_unifrac_Huang_Roy_tree_name.qzv\n",
      "Calculating beta diversity for all using unweighted_unifrac\n",
      "Calculating beta diversity metrics for all using Huang_Roy_tree_name\n",
      "Saveing significant results to ../output/beta_phylo_permanova_all_silva_m2_unweighted_unifrac_Huang_Roy_tree_name.qzv\n"
     ]
    },
    {
     "name": "stderr",
     "output_type": "stream",
     "text": [
      "/home/tanya/anaconda3/envs/qiime2-2022.2/lib/python3.8/site-packages/skbio/stats/ordination/_principal_coordinate_analysis.py:143: RuntimeWarning: The result contains negative eigenvalues. Please compare their magnitude with the magnitude of some of the largest positive eigenvalues. If the negative ones are smaller, it's probably safe to ignore them, but if they are large in magnitude, the results won't be useful. See the Notes section for more details. The smallest eigenvalue is -0.058424847675467094 and the largest is 49.49472939344428.\n",
      "  warn(\n"
     ]
    },
    {
     "name": "stdout",
     "output_type": "stream",
     "text": [
      "Saveing the raw pcoa results to ../output/beta_phylo_pcoa_all_silva_m2_unweighted_unifrac_Huang_Roy_tree_name.qza\n",
      "Saveing the pcoa emperor plot to ../output/beta_phylo_emperor_pcoa_all_silva_m2_unweighted_unifrac_Huang_Roy_tree_name.qzv\n"
     ]
    }
   ],
   "source": [
    "metrics=['weighted_unifrac', 'unweighted_unifrac']\n",
    "column_names=['Huang_Roy_tree_name']\n",
    "\n",
    "for compartment, table in feature_tables_decon_1000.items():\n",
    "    for metric in metrics:\n",
    "        print(f\"Calculating beta diversity for {compartment} using {metric}\")\n",
    "        beta_results = beta_phylogenetic(table=table, phylogeny=phylo_tree, metric=metric)\n",
    "        beta_dm = beta_results.distance_matrix\n",
    "\n",
    "        #calculate diversity on multiple columns as a second loop\n",
    "        #change pairwise to true if want to get pairwise comparison\n",
    "        #I think this still needs to be indented\n",
    "        #for compartment, column in beta_results.distance_matrix\n",
    "        for column in column_names:\n",
    "            print(f\"Calculating beta diversity metrics for {compartment} using {column}\")\n",
    "            pairwise_beta_diversity = diversity.actions.beta_group_significance\\\n",
    "                    (distance_matrix=beta_dm, metadata=metadata.get_column(column),\\\n",
    "                    method='permanova', pairwise=False)\n",
    "    \n",
    "            #visualize and save data\n",
    "            beta_pairwise_visualization = pairwise_beta_diversity.visualization\n",
    "            output_filename = f\"beta_phylo_permanova_{compartment}_silva_m2_{metric}_{column}.qzv\"\n",
    "            output_filepath = join(\"../output\",output_filename)\n",
    "            print(f\"Saveing significant results to {output_filepath}\")\n",
    "            beta_pairwise_visualization.save(output_filepath)\n",
    "            \n",
    "            #create and save a pcoa from the distance matrix\n",
    "            beta_pairwise_pcoa = pcoa(beta_dm)\n",
    "            beta_pairwise_pcoa_out = beta_pairwise_pcoa.pcoa\n",
    "            output_filename = f\"beta_phylo_pcoa_{compartment}_silva_m2_{metric}_{column}.qza\"\n",
    "            output_filepath =join(\"../output\", output_filename)\n",
    "            print(f\"Saveing the raw pcoa results to {output_filepath}\")\n",
    "            beta_pairwise_pcoa_out.save(output_filepath)\n",
    "            \n",
    "            #save a plot of the pcoa\n",
    "            emperor_plot = plot(pcoa=beta_pairwise_pcoa_out,metadata=metadata)\n",
    "            emperor_visualization = emperor_plot.visualization\n",
    "            output_filename = f\"beta_phylo_emperor_pcoa_{compartment}_silva_m2_{metric}_{column}.qzv\"\n",
    "            output_filepath = join(\"../output\", output_filename)\n",
    "            print(f\"Saveing the pcoa emperor plot to {output_filepath}\")\n",
    "            emperor_visualization.save(output_filepath)\n",
    "            \n",
    "      "
   ]
  },
  {
   "cell_type": "code",
   "execution_count": 5,
   "metadata": {},
   "outputs": [
    {
     "name": "stdout",
     "output_type": "stream",
     "text": [
      "Calculating beta diversity for mucus using weighted_unifrac\n",
      "Saving distance matrix to ../output/beta_dist_matrix_mucus_silva_m2_decon_1000_weighted_unifrac.qza\n",
      "Calculating beta diversity for mucus using unweighted_unifrac\n",
      "Saving distance matrix to ../output/beta_dist_matrix_mucus_silva_m2_decon_1000_unweighted_unifrac.qza\n",
      "Calculating beta diversity for tissue using weighted_unifrac\n",
      "Saving distance matrix to ../output/beta_dist_matrix_tissue_silva_m2_decon_1000_weighted_unifrac.qza\n",
      "Calculating beta diversity for tissue using unweighted_unifrac\n",
      "Saving distance matrix to ../output/beta_dist_matrix_tissue_silva_m2_decon_1000_unweighted_unifrac.qza\n",
      "Calculating beta diversity for skeleton using weighted_unifrac\n",
      "Saving distance matrix to ../output/beta_dist_matrix_skeleton_silva_m2_decon_1000_weighted_unifrac.qza\n",
      "Calculating beta diversity for skeleton using unweighted_unifrac\n",
      "Saving distance matrix to ../output/beta_dist_matrix_skeleton_silva_m2_decon_1000_unweighted_unifrac.qza\n",
      "Calculating beta diversity for all using weighted_unifrac\n",
      "Saving distance matrix to ../output/beta_dist_matrix_all_silva_m2_decon_1000_weighted_unifrac.qza\n",
      "Calculating beta diversity for all using unweighted_unifrac\n",
      "Saving distance matrix to ../output/beta_dist_matrix_all_silva_m2_decon_1000_unweighted_unifrac.qza\n"
     ]
    }
   ],
   "source": [
    "#save only the distance matrix for later\n",
    "metrics=['weighted_unifrac', 'unweighted_unifrac']\n",
    "\n",
    "for compartment, table in feature_tables_decon_1000.items():\n",
    "    for metric in metrics:\n",
    "        print(f\"Calculating beta diversity for {compartment} using {metric}\")\n",
    "        beta_results = beta_phylogenetic(table=table, phylogeny=phylo_tree, metric=metric)\n",
    "        beta_dm = beta_results.distance_matrix\n",
    "        \n",
    "        #save distance matrix for each compartment and metric used\n",
    "        output_filename= f\"beta_dist_matrix_{compartment}_silva_m2_decon_1000_{metric}.qza\"\n",
    "        output_filepath=join(\"../output\",output_filename)\n",
    "        print(f\"Saving distance matrix to {output_filepath}\")\n",
    "        beta_dm.save(output_filepath)\n",
    "        \n"
   ]
  },
  {
   "cell_type": "code",
   "execution_count": 15,
   "metadata": {},
   "outputs": [],
   "source": [
    "#set up \n",
    "import pandas as pd\n",
    "from os.path import abspath,exists,join\n",
    "from qiime2 import Artifact\n",
    "import shutil\n",
    "\n",
    "#set up the directories\n",
    "input_dir = \"../output/beta_diversity/\"\n",
    "output_dir = \"../output/beta_diversity/\"\n",
    "\n",
    "#load the distance matrix files\n",
    "dm_weighted_mucus = Artifact.load(input_dir + \"beta_dist_matrix_mucus_silva_m2_decon_1000_weighted_unifrac.qza\")\n",
    "dm_weighted_skeleton = Artifact.load(input_dir + \"beta_dist_matrix_skeleton_silva_m2_decon_1000_weighted_unifrac.qza\")\n",
    "dm_weighted_tissue = Artifact.load(input_dir + \"beta_dist_matrix_tissue_silva_m2_decon_1000_weighted_unifrac.qza\")\n",
    "dm_weighted_all = Artifact.load(input_dir + \"beta_dist_matrix_all_silva_m2_decon_1000_weighted_unifrac.qza\")\n",
    "\n",
    "dm_unweighted_mucus = Artifact.load(input_dir + \"beta_dist_matrix_mucus_silva_m2_decon_1000_unweighted_unifrac.qza\")\n",
    "dm_unweighted_skeleton = Artifact.load(input_dir + \"beta_dist_matrix_skeleton_silva_m2_decon_1000_unweighted_unifrac.qza\")\n",
    "dm_unweighted_tissue = Artifact.load(input_dir + \"beta_dist_matrix_tissue_silva_m2_decon_1000_unweighted_unifrac.qza\")\n",
    "dm_unweighted_all = Artifact.load(input_dir + \"beta_dist_matrix_all_silva_m2_decon_1000_unweighted_unifrac.qza\")"
   ]
  },
  {
   "cell_type": "code",
   "execution_count": 16,
   "metadata": {},
   "outputs": [],
   "source": [
    "distance_matrix_weighted = {'mucus': dm_weighted_mucus, 'skeleton': dm_weighted_skeleton,\\\n",
    "                           'tissue': dm_weighted_tissue, 'all': dm_weighted_all}\n",
    "distance_matrix_unweighted ={'mucus': dm_unweighted_mucus, 'skeleton': dm_unweighted_skeleton,\\\n",
    "                            'tissue': dm_unweighted_tissue, 'all': dm_unweighted_all}"
   ]
  },
  {
   "cell_type": "markdown",
   "metadata": {},
   "source": [
    "Run weighted and unweighted unfrac before proceeding."
   ]
  },
  {
   "cell_type": "code",
   "execution_count": 18,
   "metadata": {
    "tags": []
   },
   "outputs": [
    {
     "name": "stdout",
     "output_type": "stream",
     "text": [
      "Ploting the distance matrix to a Pcoa for mucus!\n"
     ]
    },
    {
     "name": "stderr",
     "output_type": "stream",
     "text": [
      "/home/tanya/anaconda3/envs/qiime2-2022.2/lib/python3.8/site-packages/skbio/stats/ordination/_principal_coordinate_analysis.py:143: RuntimeWarning: The result contains negative eigenvalues. Please compare their magnitude with the magnitude of some of the largest positive eigenvalues. If the negative ones are smaller, it's probably safe to ignore them, but if they are large in magnitude, the results won't be useful. See the Notes section for more details. The smallest eigenvalue is -0.03200944137467907 and the largest is 14.183928858106631.\n",
      "  warn(\n"
     ]
    },
    {
     "name": "stdout",
     "output_type": "stream",
     "text": [
      "Saving results to: ../output/beta_diversity/pcoa_dm_mucus_unweighted_unifrac.qza\n",
      "Exporting the pcoa distance matrix for mucus.\n",
      "Ploting the distance matrix to a Pcoa for skeleton!\n",
      "Saving results to: ../output/beta_diversity/pcoa_dm_skeleton_unweighted_unifrac.qza\n",
      "Exporting the pcoa distance matrix for skeleton.\n",
      "Ploting the distance matrix to a Pcoa for tissue!\n"
     ]
    },
    {
     "name": "stderr",
     "output_type": "stream",
     "text": [
      "/home/tanya/anaconda3/envs/qiime2-2022.2/lib/python3.8/site-packages/skbio/stats/ordination/_principal_coordinate_analysis.py:143: RuntimeWarning: The result contains negative eigenvalues. Please compare their magnitude with the magnitude of some of the largest positive eigenvalues. If the negative ones are smaller, it's probably safe to ignore them, but if they are large in magnitude, the results won't be useful. See the Notes section for more details. The smallest eigenvalue is -0.011364696472312648 and the largest is 15.076809403097661.\n",
      "  warn(\n"
     ]
    },
    {
     "name": "stdout",
     "output_type": "stream",
     "text": [
      "Saving results to: ../output/beta_diversity/pcoa_dm_tissue_unweighted_unifrac.qza\n",
      "Exporting the pcoa distance matrix for tissue.\n",
      "Ploting the distance matrix to a Pcoa for all!\n"
     ]
    },
    {
     "name": "stderr",
     "output_type": "stream",
     "text": [
      "/home/tanya/anaconda3/envs/qiime2-2022.2/lib/python3.8/site-packages/skbio/stats/ordination/_principal_coordinate_analysis.py:143: RuntimeWarning: The result contains negative eigenvalues. Please compare their magnitude with the magnitude of some of the largest positive eigenvalues. If the negative ones are smaller, it's probably safe to ignore them, but if they are large in magnitude, the results won't be useful. See the Notes section for more details. The smallest eigenvalue is -0.05354725103513512 and the largest is 48.7751678573051.\n",
      "  warn(\n"
     ]
    },
    {
     "name": "stdout",
     "output_type": "stream",
     "text": [
      "Saving results to: ../output/beta_diversity/pcoa_dm_all_unweighted_unifrac.qza\n",
      "Exporting the pcoa distance matrix for all.\n"
     ]
    }
   ],
   "source": [
    "#run loop to extract the artifact distance matrix files so that the coordinates can be used \n",
    "#need to pass in the distance matrix file rather than the pcoa file\n",
    "for compartment,distance_matrix in distance_matrix_unweighted.items():\n",
    "    print(f\"Ploting the distance matrix to a Pcoa for {compartment}!\")\n",
    "    pcoa_matrix = pcoa(distance_matrix)\n",
    "    pcoa_matrix_out = pcoa_matrix.pcoa\n",
    "    \n",
    "    #save the pcoa matrix\n",
    "    output_file = f\"pcoa_dm_{compartment}_unweighted_unifrac.qza\"\n",
    "    output_filepath = join(output_dir,output_file)\n",
    "    print(f\"Saving results to: {output_filepath}\")\n",
    "    pcoa_matrix_out.save(output_filepath)\n",
    "    \n",
    "    #export the pcoa qza file as a text file for downstream analysis\n",
    "    #note: this exports a folder with differing names but the file of interest inside the folder is always\n",
    "    #called ordination.txt\n",
    "    print(f\"Exporting the pcoa distance matrix for {compartment}.\")\n",
    "    output_file = f\"pcoa_dm_{compartment}_unweighted_unifrac\"\n",
    "    output_filepath = join(output_dir,output_file)\n",
    "    pcoa_matrix_out.export_data(output_filepath)"
   ]
  },
  {
   "cell_type": "code",
   "execution_count": 19,
   "metadata": {},
   "outputs": [
    {
     "name": "stdout",
     "output_type": "stream",
     "text": [
      "Files are renamed!\n"
     ]
    }
   ],
   "source": [
    "#rename file files in the new txt folders so that they are unique like their folder name\n",
    "#not just ordination.txt\n",
    "import os\n",
    "import ntpath\n",
    "beta_diversity_dir = \"../output/beta_diversity\"\n",
    "for root, dirs, files in os.walk(beta_diversity_dir):\n",
    "    for file in files:\n",
    "        if file == 'ordination.txt':\n",
    "            dirname = ntpath.basename(root)\n",
    "            #original location\n",
    "            ori = root + '/' + file\n",
    "            #From location, adding the dirname (\"FolderA\") before the file name\n",
    "            dest =  root + '/' + dirname  + \"_\" + file\n",
    "            os.rename(ori, dest)\n",
    "print(\"Files are renamed!\")"
   ]
  },
  {
   "cell_type": "code",
   "execution_count": 20,
   "metadata": {},
   "outputs": [],
   "source": [
    "import pandas as pd\n",
    "\n",
    "def add_pcoa_to_metadata(path_to_pcoa_tsv: str, path_to_metadata_tsv: str, \\\n",
    "                         final_merge_data_column = \"Huang_Roy_tree_name\", column_prefix: str = \"PC\") -> pd.DataFrame:\n",
    "    \"\"\"Returns metadata as DataFrame with PC axes added.\n",
    "    \n",
    "    path_to_pcoa_tsv -- A string representing the path to an exported Pcoa from Qiime2\n",
    "    path_to_metadata_tsv -- A string representing the path to a metadata tsv file\n",
    "    column_prefix -- A string to start the column names. The number of the PC axis will be added. \n",
    "      (eg 'weighted_unifrac_PC1')\n",
    "    \"\"\"\n",
    "    mapping_df = pd.read_csv(path_to_metadata_tsv, sep=\"\\t\")\n",
    "    sampleid_column_name = mapping_df.columns[0]\n",
    "    \n",
    "    pcoa_df = pd.read_csv(path_to_pcoa_tsv, skiprows=9, skipfooter=4,\\\n",
    "                          header=None, sep=\"\\t\", engine='python')\n",
    "    \n",
    "    #determine the number of columns in the mapping file and pcoa file\n",
    "    columns = [sampleid_column_name]\n",
    "    n_columns = len(pcoa_df.columns)\n",
    "    #extend the column names for the pcoa\n",
    "    columns.extend([column_prefix+str(x+1) for x in range(n_columns-1)])\n",
    "    \n",
    "    pcoa_df = pd.read_csv(path_to_pcoa_tsv, skiprows=9, skipfooter=4,\\\n",
    "                          header=None, names=columns, sep=\"\\t\", engine='python')\n",
    "    \n",
    "    #create a small dataframe using the pcoa DataFrame that contains the sample ID and \n",
    "    #the first 3 PC coordinates.\n",
    "    pcoa_df_small = pcoa_df[[f'{sampleid_column_name}', column_prefix + \"1\", column_prefix + \"2\", column_prefix +\"3\"]]\n",
    "    \n",
    "    #merge the mapping and small pcoa dataframe into one by the SampleID column.\n",
    "    mapping_df.loc[:,f'{sampleid_column_name}'] = \\\n",
    "    mapping_df.loc[:,f'{sampleid_column_name}'].astype(str)\n",
    "    pcoa_df_small.loc[:,f'{sampleid_column_name}'] =\\\n",
    "    pcoa_df_small.loc[:,f'{sampleid_column_name}'].astype(str)\n",
    "    merged_df = pcoa_df_small.merge(mapping_df, on = f'{sampleid_column_name}', how=\"left\")\n",
    "    \n",
    "    #use a selected column to create a smaller DataFrame to run downstream analysis\n",
    "    pcoa_df_small = merged_df[[final_merge_data_column, column_prefix + \"1\", column_prefix + \"2\", column_prefix +\"3\"]]\n",
    "    #take the mean of the same samples in the new DataFrame \n",
    "    pcoa_df_small = pcoa_df_small.groupby([final_merge_data_column]).mean() \n",
    "    \n",
    "    return pcoa_df_small"
   ]
  },
  {
   "cell_type": "code",
   "execution_count": null,
   "metadata": {},
   "outputs": [],
   "source": []
  },
  {
   "cell_type": "code",
   "execution_count": 21,
   "metadata": {},
   "outputs": [
    {
     "name": "stdout",
     "output_type": "stream",
     "text": [
      "pcoa_dm_mucus_unweighted_unifrac_ordination.txt\n",
      "../output/beta_diversity/pcoa_dm_mucus_unweighted_unifrac\n",
      "input file path: ../output/beta_diversity/pcoa_dm_mucus_unweighted_unifrac/pcoa_dm_mucus_unweighted_unifrac_ordination.txt\n",
      "mucus_unweighted_unifrac_ordination_PC\n",
      "pcoa_dm_all_unweighted_unifrac_ordination.txt\n",
      "../output/beta_diversity/pcoa_dm_all_unweighted_unifrac\n",
      "input file path: ../output/beta_diversity/pcoa_dm_all_unweighted_unifrac/pcoa_dm_all_unweighted_unifrac_ordination.txt\n",
      "all_unweighted_unifrac_ordination_PC\n",
      "pcoa_dm_mucus_weighted_unifrac_ordination.txt\n",
      "../output/beta_diversity/pcoa_dm_mucus_weighted_unifrac\n",
      "input file path: ../output/beta_diversity/pcoa_dm_mucus_weighted_unifrac/pcoa_dm_mucus_weighted_unifrac_ordination.txt\n",
      "mucus_weighted_unifrac_ordination_PC\n",
      "pcoa_dm_skeleton_unweighted_unifrac_ordination.txt\n",
      "../output/beta_diversity/pcoa_dm_skeleton_unweighted_unifrac\n",
      "input file path: ../output/beta_diversity/pcoa_dm_skeleton_unweighted_unifrac/pcoa_dm_skeleton_unweighted_unifrac_ordination.txt\n",
      "skeleton_unweighted_unifrac_ordination_PC\n",
      "pcoa_dm_skeleton_weighted_unifrac_ordination.txt\n",
      "../output/beta_diversity/pcoa_dm_skeleton_weighted_unifrac\n",
      "input file path: ../output/beta_diversity/pcoa_dm_skeleton_weighted_unifrac/pcoa_dm_skeleton_weighted_unifrac_ordination.txt\n",
      "skeleton_weighted_unifrac_ordination_PC\n",
      "pcoa_dm_tissue_unweighted_unifrac_ordination.txt\n",
      "../output/beta_diversity/pcoa_dm_tissue_unweighted_unifrac\n",
      "input file path: ../output/beta_diversity/pcoa_dm_tissue_unweighted_unifrac/pcoa_dm_tissue_unweighted_unifrac_ordination.txt\n",
      "tissue_unweighted_unifrac_ordination_PC\n",
      "pcoa_dm_all_weighted_unifrac_ordination.txt\n",
      "../output/beta_diversity/pcoa_dm_all_weighted_unifrac\n",
      "input file path: ../output/beta_diversity/pcoa_dm_all_weighted_unifrac/pcoa_dm_all_weighted_unifrac_ordination.txt\n",
      "all_weighted_unifrac_ordination_PC\n",
      "pcoa_dm_tissue_weighted_unifrac_ordination.txt\n",
      "../output/beta_diversity/pcoa_dm_tissue_weighted_unifrac\n",
      "input file path: ../output/beta_diversity/pcoa_dm_tissue_weighted_unifrac/pcoa_dm_tissue_weighted_unifrac_ordination.txt\n",
      "tissue_weighted_unifrac_ordination_PC\n"
     ]
    }
   ],
   "source": [
    "#call the function\n",
    "#mapping file is easy I think\n",
    "#path to pcoa will be harder- need to get to the .txt file in each of the folders and save with the folder name\n",
    "#metadata file\n",
    "import os\n",
    "beta_diversity_dir = \"../output/beta_diversity\"\n",
    "pcoa_df_small = {}\n",
    "path_to_metadata = \"../input/GCMP_EMP_map_r28_no_empty_samples.txt\"\n",
    "metadata_file = join(beta_diversity_dir, \"combined_metadata.tsv\")\n",
    "#combined_metadata = pd.read_csv(metadata_file)\n",
    "#with open(\"metadata_file\", \"w\") as outfile:\n",
    "#get all the pcoa data\n",
    "for root, dirs, files in os.walk(beta_diversity_dir):\n",
    "    for file in files:\n",
    "        if file.endswith('ordination.txt'):\n",
    "            print(file)\n",
    "            print(root)\n",
    "            #pcoa_df_small.head\n",
    "            \n",
    "            input_file = os.path.join(root,file)\n",
    "            print(\"input file path:\", input_file)\n",
    "            #get only part of the filename to not include the file extention and the pcoa_dm_ beginning\n",
    "            file_str = str(file)\n",
    "            file_str = file.rsplit('.txt')[0]\n",
    "            file_str = file_str.rsplit(\"pcoa_dm_\")[1]\n",
    "            column_prefix = file_str+\"_PC\"\n",
    "            print(column_prefix)\n",
    "            current_metadata = add_pcoa_to_metadata(input_file, path_to_metadata, column_prefix=column_prefix)\n",
    "            output_file_prefix = file_str.rsplit(\"ordination\")[0]\n",
    "            output_file= os.path.join(root,f\"{output_file_prefix}_metadata_ordination.tsv\")\n",
    "            current_metadata.to_csv(output_file, sep='\\t')\n",
    "            "
   ]
  },
  {
   "cell_type": "markdown",
   "metadata": {},
   "source": [
    "# Merge the pcoa ordinations into one file. "
   ]
  },
  {
   "cell_type": "code",
   "execution_count": 22,
   "metadata": {},
   "outputs": [
    {
     "name": "stdout",
     "output_type": "stream",
     "text": [
      "mucus_unweighted_unifrac__metadata_ordination.tsv\n",
      "../output/beta_diversity/pcoa_dm_mucus_unweighted_unifrac\n",
      "all_unweighted_unifrac__metadata_ordination.tsv\n",
      "../output/beta_diversity/pcoa_dm_all_unweighted_unifrac\n",
      "mucus_weighted_unifrac__metadata_ordination.tsv\n",
      "../output/beta_diversity/pcoa_dm_mucus_weighted_unifrac\n",
      "skeleton_unweighted_unifrac__metadata_ordination.tsv\n",
      "../output/beta_diversity/pcoa_dm_skeleton_unweighted_unifrac\n",
      "skeleton_weighted_unifrac__metadata_ordination.tsv\n",
      "../output/beta_diversity/pcoa_dm_skeleton_weighted_unifrac\n",
      "tissue_unweighted_unifrac__metadata_ordination.tsv\n",
      "../output/beta_diversity/pcoa_dm_tissue_unweighted_unifrac\n",
      "all_weighted_unifrac__metadata_ordination.tsv\n",
      "../output/beta_diversity/pcoa_dm_all_weighted_unifrac\n",
      "tissue_weighted_unifrac__metadata_ordination.tsv\n",
      "../output/beta_diversity/pcoa_dm_tissue_weighted_unifrac\n"
     ]
    }
   ],
   "source": [
    "import os\n",
    "import pathlib\n",
    "from collections import defaultdict\n",
    "from functools import reduce\n",
    "\n",
    "beta_diversity_dir = \"../output/beta_diversity\"\n",
    "metadata_file = join(beta_diversity_dir, \"combined_metadata.tsv\")\n",
    "merged_data = pd.DataFrame(columns=[\"Huang_Roy_tree_name\"])\n",
    "data = []\n",
    "for root, dirs, files in os.walk(beta_diversity_dir):\n",
    "        for file in files:\n",
    "            if file.endswith('metadata_ordination.tsv'):\n",
    "                print(file)\n",
    "                print(root)\n",
    "                input_file = os.path.join(root,file)\n",
    "                data_frame = pd.read_csv(input_file, sep=\"\\t\")\n",
    "                data.append(data_frame)\n",
    "        #print(data)\n",
    "    \n",
    "merge_data = reduce(lambda left,right: pd.merge(left,right, on=['Huang_Roy_tree_name'], how='outer'), data)\n",
    "#delete the extra columns that end in _x and _y\n",
    "merge_data_unique = merge_data[merge_data.columns[~(merge_data.columns.str.endswith('_x') | merge_data.columns.str.endswith('_y'))]]\n",
    "#delete first column since its just numbers\n",
    "#merge_data_unique = merge_data_unique.drop(columns=merge_data_unique.columns[0], axis=1, inplace=True)\n",
    "#merged_data = bind.by.Huang_Roy_tree_name(data)\n",
    "#concat_data = pd.concat(data, axis = \"columns\")\n",
    "#merged_data = concat_data.merge(data, on = \"Huang_Roy_tree_name\", how = \"outer\")\n",
    "\n",
    "#merge how =outer\n",
    "#merged_data_unique = merged_data.loc[:,~merged_data.columns.duplicated()]\n",
    "#merge_data.to_csv(metadata_file, sep=\"\\t\")\n",
    "                "
   ]
  },
  {
   "cell_type": "code",
   "execution_count": 23,
   "metadata": {},
   "outputs": [],
   "source": [
    "merge_data_unique.to_csv(metadata_file, sep=\"\\t\", index=False)"
   ]
  },
  {
   "cell_type": "markdown",
   "metadata": {},
   "source": [
    "# Merge the pcoa axis data to the trait table"
   ]
  },
  {
   "cell_type": "markdown",
   "metadata": {},
   "source": [
    "Make sure you have all the weighted and unweighted unifrac data merged in one table for this step"
   ]
  },
  {
   "cell_type": "code",
   "execution_count": 24,
   "metadata": {},
   "outputs": [],
   "source": [
    "#now we can merge the combined metadata and the TIR data\n",
    "trait_table_df=pd.read_csv(\"../input/coral_genome_trait_table.csv\")\n",
    "combine_pcoa_df=merge_data_unique"
   ]
  },
  {
   "cell_type": "code",
   "execution_count": 25,
   "metadata": {},
   "outputs": [],
   "source": [
    "merged_df = trait_table_df.merge(combine_pcoa_df, on = \"Huang_Roy_tree_name\", how=\"left\")\n",
    "output_filename = \"tir_pcoa_merged_trait_table.csv\"\n",
    "output_file = join(beta_diversity_dir,output_filename)\n",
    "merged_df.to_csv(output_file)"
   ]
  },
  {
   "cell_type": "markdown",
   "metadata": {},
   "source": [
    "# Create Emperor plot using the TIR Trait table only"
   ]
  },
  {
   "cell_type": "code",
   "execution_count": 8,
   "metadata": {},
   "outputs": [],
   "source": [
    "#set up \n",
    "import pandas as pd\n",
    "from os.path import abspath,exists,join\n",
    "from qiime2 import Artifact\n",
    "from qiime2.plugins.feature_table.methods import group\n",
    "import shutil\n",
    "\n",
    "#set up the directories\n",
    "input_dir = \"../output/beta_diversity/\"\n",
    "output_dir = \"../output/beta_diversity/\"\n",
    "\n",
    "#load new TIR only metadata\n",
    "metadata_tir = Metadata.load(\"../input/GCMP_TIR_genomes_mapping.txt\")\n",
    "metadata_tir_genome = Metadata.load(\"../input/GCMP_TIR_only_genomes_mapping.tsv\")\n",
    "\n",
    "#load the distance matrix files\n",
    "TIR_feature_table_mucus = Artifact.load(input_dir + \"TIR_mucus_feature_table_filtered.qza\")\n",
    "TIR_feature_table_skeleton = Artifact.load(input_dir + \"TIR_skeleton_feature_table_filtered.qza\")\n",
    "TIR_feature_table_tissue = Artifact.load(input_dir + \"TIR_tissue_feature_table_filtered.qza\")\n",
    "TIR_feature_table_all = Artifact.load(input_dir + \"TIR_all_feature_table_filtered.qza\")\n"
   ]
  },
  {
   "cell_type": "code",
   "execution_count": 9,
   "metadata": {},
   "outputs": [],
   "source": [
    "TIR_feature_table = {'mucus': TIR_feature_table_mucus, 'skeleton': TIR_feature_table_skeleton,\\\n",
    "                           'tissue': TIR_feature_table_tissue, 'all': TIR_feature_table_all}"
   ]
  },
  {
   "cell_type": "code",
   "execution_count": 14,
   "metadata": {},
   "outputs": [
    {
     "name": "stdout",
     "output_type": "stream",
     "text": [
      "Creating a merged feature table with only one genome value using <CategoricalMetadataColumn name='Huang_Roy_tree_name_tir' id_count=243> in mucus.\n",
      "done filtering\n",
      "Calculating beta diversity for mucus using weighted_unifrac\n",
      "Saveing the raw pcoa results to ../output/beta_diversity/tir_genome_only_beta_phylo_pcoa_mucus_weighted_unifrac.qza\n",
      "Saveing the pcoa emperor plot to ../output/tir_genome_only_beta_phylo_emperor_pcoa_mucus_weighted_unifrac.qzv\n",
      "Calculating beta diversity for mucus using unweighted_unifrac\n",
      "Saveing the raw pcoa results to ../output/beta_diversity/tir_genome_only_beta_phylo_pcoa_mucus_unweighted_unifrac.qza\n",
      "Saveing the pcoa emperor plot to ../output/tir_genome_only_beta_phylo_emperor_pcoa_mucus_unweighted_unifrac.qzv\n",
      "Creating a merged feature table with only one genome value using <CategoricalMetadataColumn name='Huang_Roy_tree_name_tir' id_count=243> in skeleton.\n",
      "done filtering\n",
      "Calculating beta diversity for skeleton using weighted_unifrac\n",
      "Saveing the raw pcoa results to ../output/beta_diversity/tir_genome_only_beta_phylo_pcoa_skeleton_weighted_unifrac.qza\n",
      "Saveing the pcoa emperor plot to ../output/tir_genome_only_beta_phylo_emperor_pcoa_skeleton_weighted_unifrac.qzv\n",
      "Calculating beta diversity for skeleton using unweighted_unifrac\n",
      "Saveing the raw pcoa results to ../output/beta_diversity/tir_genome_only_beta_phylo_pcoa_skeleton_unweighted_unifrac.qza\n",
      "Saveing the pcoa emperor plot to ../output/tir_genome_only_beta_phylo_emperor_pcoa_skeleton_unweighted_unifrac.qzv\n",
      "Creating a merged feature table with only one genome value using <CategoricalMetadataColumn name='Huang_Roy_tree_name_tir' id_count=243> in tissue.\n",
      "done filtering\n",
      "Calculating beta diversity for tissue using weighted_unifrac\n",
      "Saveing the raw pcoa results to ../output/beta_diversity/tir_genome_only_beta_phylo_pcoa_tissue_weighted_unifrac.qza\n",
      "Saveing the pcoa emperor plot to ../output/tir_genome_only_beta_phylo_emperor_pcoa_tissue_weighted_unifrac.qzv\n",
      "Calculating beta diversity for tissue using unweighted_unifrac\n",
      "Saveing the raw pcoa results to ../output/beta_diversity/tir_genome_only_beta_phylo_pcoa_tissue_unweighted_unifrac.qza\n",
      "Saveing the pcoa emperor plot to ../output/tir_genome_only_beta_phylo_emperor_pcoa_tissue_unweighted_unifrac.qzv\n",
      "Creating a merged feature table with only one genome value using <CategoricalMetadataColumn name='Huang_Roy_tree_name_tir' id_count=243> in all.\n",
      "done filtering\n",
      "Calculating beta diversity for all using weighted_unifrac\n",
      "Saveing the raw pcoa results to ../output/beta_diversity/tir_genome_only_beta_phylo_pcoa_all_weighted_unifrac.qza\n",
      "Saveing the pcoa emperor plot to ../output/tir_genome_only_beta_phylo_emperor_pcoa_all_weighted_unifrac.qzv\n",
      "Calculating beta diversity for all using unweighted_unifrac\n",
      "Saveing the raw pcoa results to ../output/beta_diversity/tir_genome_only_beta_phylo_pcoa_all_unweighted_unifrac.qza\n",
      "Saveing the pcoa emperor plot to ../output/tir_genome_only_beta_phylo_emperor_pcoa_all_unweighted_unifrac.qzv\n"
     ]
    }
   ],
   "source": [
    "metrics=['weighted_unifrac', 'unweighted_unifrac']\n",
    "metadata_column = metadata_tir.get_column(name='Huang_Roy_tree_name_tir')\n",
    "\n",
    "for compartment, table in TIR_feature_table.items():\n",
    "    print(f\"Creating a merged feature table with only one genome value using {metadata_column} in {compartment}.\")\n",
    "    genome_feature_table_results = group(table=table,axis='sample', metadata=metadata_column, mode='mean-ceiling')\n",
    "    genome_feature_table = genome_feature_table_results.grouped_table\n",
    "    print(\"done filtering\")\n",
    "    output_filename = f\"tir_genome_only_feature_table_{compartment}.qza\"\n",
    "    output_filepath = join(\"../output/beta_diversity\",output_filename)\n",
    "    genome_feature_table.save(output_filepath)\n",
    "    for metric in metrics:\n",
    "        print(f\"Calculating beta diversity for {compartment} using {metric}\")\n",
    "        beta_results = beta_phylogenetic(table=genome_feature_table, phylogeny=phylo_tree, metric=metric)\n",
    "        beta_dm = beta_results.distance_matrix\n",
    "    \n",
    "        #create and save a pcoa from the distance matrix\n",
    "        beta_pairwise_pcoa = pcoa(beta_dm)\n",
    "        beta_pairwise_pcoa_out = beta_pairwise_pcoa.pcoa\n",
    "        output_filename = f\"tir_genome_only_beta_phylo_pcoa_{compartment}_{metric}.qza\"\n",
    "        output_filepath =join(\"../output/beta_diversity\", output_filename)\n",
    "        print(f\"Saveing the raw pcoa results to {output_filepath}\")\n",
    "        beta_pairwise_pcoa_out.save(output_filepath)\n",
    "            \n",
    "        #save a plot of the pcoa\n",
    "        emperor_plot = plot(pcoa=beta_pairwise_pcoa_out,metadata=metadata_tir_genome, ignore_missing_samples= True)\n",
    "        emperor_visualization = emperor_plot.visualization\n",
    "        output_filename = f\"tir_genome_only_beta_phylo_emperor_pcoa_{compartment}_{metric}.qzv\"\n",
    "        output_filepath = join(\"../output\", output_filename)\n",
    "        print(f\"Saveing the pcoa emperor plot to {output_filepath}\")\n",
    "        emperor_visualization.save(output_filepath)"
   ]
  },
  {
   "cell_type": "code",
   "execution_count": null,
   "metadata": {},
   "outputs": [],
   "source": []
  }
 ],
 "metadata": {
  "kernelspec": {
   "display_name": "Python 3 (ipykernel)",
   "language": "python",
   "name": "python3"
  },
  "language_info": {
   "codemirror_mode": {
    "name": "ipython",
    "version": 3
   },
   "file_extension": ".py",
   "mimetype": "text/x-python",
   "name": "python",
   "nbconvert_exporter": "python",
   "pygments_lexer": "ipython3",
   "version": "3.8.13"
  }
 },
 "nbformat": 4,
 "nbformat_minor": 4
}
