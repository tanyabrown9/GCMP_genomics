{
 "cells": [
  {
   "cell_type": "markdown",
   "metadata": {},
   "source": [
    "This code will parse the HMMER search results so that we can count how many results we have"
   ]
  },
  {
   "cell_type": "code",
   "execution_count": 2,
   "metadata": {},
   "outputs": [],
   "source": [
    "#!/usr/bin/python\n",
    "from collections import defaultdict\n",
    "import pandas as pd\n",
    "from Bio import SearchIO\n",
    "import pdb"
   ]
  },
  {
   "cell_type": "code",
   "execution_count": null,
   "metadata": {},
   "outputs": [],
   "source": []
  },
  {
   "cell_type": "code",
   "execution_count": 3,
   "metadata": {},
   "outputs": [],
   "source": [
    "#import a hmmer text file\n",
    "adig_hmmer = \"../output/adig_pep_upper_hmmer_results.txt\" \n",
    "#open the file file for reading\n",
    "adig_hmmer_open = open(adig_hmmer, 'r')"
   ]
  },
  {
   "cell_type": "code",
   "execution_count": 4,
   "metadata": {},
   "outputs": [],
   "source": [
    "attribs = ['accession', 'bias', 'bitsscore', 'description', 'cluster_num', 'domain_exp_num', 'domain_included_num', 'domain_obs_num', 'domain_reported_num', 'env_num', 'evalue', 'id', 'overlap_num', 'region_num']\n",
    "hits = defaultdict(list)"
   ]
  },
  {
   "cell_type": "code",
   "execution_count": 10,
   "metadata": {},
   "outputs": [
    {
     "data": {
      "text/html": [
       "<div>\n",
       "<style scoped>\n",
       "    .dataframe tbody tr th:only-of-type {\n",
       "        vertical-align: middle;\n",
       "    }\n",
       "\n",
       "    .dataframe tbody tr th {\n",
       "        vertical-align: top;\n",
       "    }\n",
       "\n",
       "    .dataframe thead th {\n",
       "        text-align: right;\n",
       "    }\n",
       "</style>\n",
       "<table border=\"1\" class=\"dataframe\">\n",
       "  <thead>\n",
       "    <tr style=\"text-align: right;\">\n",
       "      <th></th>\n",
       "      <th>0</th>\n",
       "    </tr>\n",
       "  </thead>\n",
       "  <tbody>\n",
       "    <tr>\n",
       "      <th>0</th>\n",
       "      <td>Query: PF01582_full_up &lt;unknown descript...</td>\n",
       "    </tr>\n",
       "  </tbody>\n",
       "</table>\n",
       "</div>"
      ],
      "text/plain": [
       "                                                   0\n",
       "0        Query: PF01582_full_up <unknown descript..."
      ]
     },
     "execution_count": 10,
     "metadata": {},
     "output_type": "execute_result"
    }
   ],
   "source": [
    "with open(adig_hmmer) as handle:\n",
    "    for queryresult in SearchIO.parse(handle, 'hmmer3-text'):\n",
    "        for hit in queryresult.hits:\n",
    "            for attrib in attribs:\n",
    "                hits[attrib].append(getattr(hit,attrib))\n",
    "pd.DataFrame.from_dict(hits)\n"
   ]
  },
  {
   "cell_type": "code",
   "execution_count": 2,
   "metadata": {},
   "outputs": [
    {
     "name": "stdout",
     "output_type": "stream",
     "text": [
      "3.8.5\n"
     ]
    }
   ],
   "source": [
    "from platform import python_version\n",
    "print(python_version())"
   ]
  },
  {
   "cell_type": "code",
   "execution_count": 2,
   "metadata": {},
   "outputs": [
    {
     "name": "stdout",
     "output_type": "stream",
     "text": [
      "Confirmed that required file or directory ../input/adig_pep_upper_hmmer_results.txt exists.\n",
      "Confirmed that required file or directory ../output/ exists.\n",
      "Confirmed that required file or directory ../input/ exists.\n",
      "completed first part.\n"
     ]
    }
   ],
   "source": [
    "#convert HMMER output into a tab separated file\n",
    "from __future__ import print_function\n",
    "import sys\n",
    "import os\n",
    "from os.path import exists,join\n",
    "input_dir = \"../input/\"\n",
    "input_handle_coral = join(input_dir,\"adig_pep_upper_hmmer_results.txt\")\n",
    "output_handle_coral = \"adig_hmmer_results.tsv\"\n",
    "output_dir = \"../output/\"\n",
    "output_handle_filepath = join(output_dir,output_handle_coral)\n",
    "\n",
    "required = [input_handle_coral,output_dir, input_dir]\n",
    "\n",
    "for r in required:\n",
    "    if not exists(r):\n",
    "        raise FileNotFoundError(f\"The specified hmmer file {r} does not seem to be in the specified path.\")\n",
    "    print(f\"Confirmed that required file or directory {r} exists.\")\n",
    "\n",
    "def sys_exit(msg,err=1):\n",
    "    sys.stderr.write(msg.rstrip() + \"\\n\")\n",
    "    sys.exit(err)\n",
    "    \n",
    "print(\"completed first part.\")"
   ]
  },
  {
   "cell_type": "code",
   "execution_count": 3,
   "metadata": {},
   "outputs": [],
   "source": [
    "#I may need to define what I want to run after the fact!\n",
    "# need to write it as convert(new_input, new_output)"
   ]
  },
  {
   "cell_type": "code",
   "execution_count": 1,
   "metadata": {},
   "outputs": [
    {
     "ename": "SyntaxError",
     "evalue": "invalid syntax (<ipython-input-1-804730b64b33>, line 37)",
     "output_type": "error",
     "traceback": [
      "\u001b[0;36m  File \u001b[0;32m\"<ipython-input-1-804730b64b33>\"\u001b[0;36m, line \u001b[0;32m37\u001b[0m\n\u001b[0;31m    else columns == 23:\u001b[0m\n\u001b[0m         ^\u001b[0m\n\u001b[0;31mSyntaxError\u001b[0m\u001b[0;31m:\u001b[0m invalid syntax\n"
     ]
    }
   ],
   "source": [
    "def convert(input_handle, output_handle):\n",
    "    input_coral = open(input_handle,'r')\n",
    "    h1 = input_coral.readline()\n",
    "    assert h1.startswith(\"#\")\n",
    "    h2 = input_coral.readline()\n",
    "    assert h2.startswith(\"# target name\")\n",
    "    h3 = input_coral.readline()\n",
    "    assert h3.startswith(\"#---\")\n",
    "    columns = len(h3.split())\n",
    "    assert columns == 19 or columns == 23, columns\n",
    "    #hard code the expected header names but allow for differences in spacing\n",
    "    print(\"Initial assertions completed.\")\n",
    "            \n",
    "    if columns == 19:\n",
    "        names = [\"target name\", \"accession\", \"query name\", \"accession\",\\\n",
    "                \"E-value\", \"score\", \"bias\", \"E-value\", \"score\", \"bias\",\\\n",
    "                \"exp\", \"reg\", \"clu\", \"ov\", \"env\", \"dom\", \"rep\", \"inc\",\\\n",
    "                \"description of target\"]\n",
    "\n",
    "        assert \" \".join(h2[2:-1].split()) == \" \".join(names)\n",
    "        \n",
    "        #now we switch to the longer names (including line one information)\n",
    "        names = [\"target name\", \"accession\", \"query name\", \"accession\",\\\n",
    "                \"full sequence E-value\", \"full sequence score\",\\\n",
    "                \"full sequence bias\", \"best 1 domain E-value\",\\\n",
    "                \"best 1 domain score\", \"best 1 domain bias\",\\\n",
    "                \"domain number estimation exp\",\\\n",
    "                \"domain number estimation reg\",\\\n",
    "                \"domain number estimation clu\",\\\n",
    "                \"domain number estimation ov\",\\\n",
    "                \"domain number estimation env\",\\\n",
    "                \"domain number estimation dom\",\\\n",
    "                \"domain number estimation rep\",\\\n",
    "                \"domain number estimation inc\",\\\n",
    "                \"description of target\"]\n",
    "        print(\"Completed first part of loop\")\n",
    "    else:\n",
    "        names = [\"target name\", \"accession\", \"tlen\", \"query name\",\\\n",
    "                \"accession\", \"qlen\", \"E-value\", \"score\", \"bias\", \\\n",
    "                \"#\", \"of\", \"c-Evalue\", \"i-Evalue\", \"score\", \"bias\", \\\n",
    "                \"from\", \"to\", \"from\", \"to\", \"from\", \"to\", \"acc\", \\\n",
    "                \"description of target\"]\n",
    "        print(\"Ready to join part 1\")\n",
    "        assert \" \".join(h2[2:-1].split()) == \" \".join(names)\n",
    "\n",
    "        #Swith to the longer names with the line description\n",
    "        names = [\"target name\", \"accession\", \"tlen\", \"query name\", \\\n",
    "                \"accession\", \"qlen\", \"full sequence E-value\", \\\n",
    "                \"full sequence score\", \"full sequence bias\" \\\n",
    "                \"dom#\", \"ndom\", \"c-Evalue\", \"i-Evalue\", \"score\", \"bias\", \\\n",
    "                \"hmm coord from\", \"hmm coord to\", \"ali coord from\", \\\n",
    "                \"ali coord to\", \"env coord from\", \"env coord to\", \"acc\", \\\n",
    "                \"decription of target\"]\n",
    "        print(\"Complete second part of loop.\")\n",
    "        assert len(names) == columns\n",
    "        print(\"Columns have been formated and will be writen to {output_handel}\")\n",
    "        output_handle.write(\"#%s\\n\" % \"\\t\".join(names))\n",
    "        #Now we will tabify the data\n",
    "        #HMMER says to use white space and not columnation\n",
    "        count = 0\n",
    "        for line in input_handle:\n",
    "            assert line [0] != \"#\"\n",
    "            #There will be space in the last column (description of target)\n",
    "            parts = line.rstrip(\"\\n\").split(None, columns -1)\n",
    "            assert len(parts) == columns, parts\n",
    "            print(\"Writing {output_handle} in tabular format.\")\n",
    "            output_handle.write(\"\\t\".join(parts) + \"\\n\")\n",
    "            count += 1\n",
    "        return count\n",
    "        "
   ]
  },
  {
   "cell_type": "code",
   "execution_count": 16,
   "metadata": {},
   "outputs": [
    {
     "name": "stdout",
     "output_type": "stream",
     "text": [
      "Initial assertions completed.\n",
      "Completed first part of loop\n"
     ]
    }
   ],
   "source": [
    "#define what we want to run\n",
    "convert(input_handle_coral, output_handle_coral)"
   ]
  },
  {
   "cell_type": "code",
   "execution_count": 8,
   "metadata": {},
   "outputs": [
    {
     "name": "stderr",
     "output_type": "stream",
     "text": [
      "<ipython-input-8-4559f121573f>:8: DeprecationWarning: 'U' mode is deprecated\n",
      "  inp = open(in_file, 'rU')\n"
     ]
    },
    {
     "ename": "FileNotFoundError",
     "evalue": "[Errno 2] No such file or directory: '-f'",
     "output_type": "error",
     "traceback": [
      "\u001b[0;31m---------------------------------------------------------------------------\u001b[0m",
      "\u001b[0;31mFileNotFoundError\u001b[0m                         Traceback (most recent call last)",
      "\u001b[0;32m<ipython-input-8-4559f121573f>\u001b[0m in \u001b[0;36m<module>\u001b[0;34m\u001b[0m\n\u001b[1;32m      6\u001b[0m     \u001b[0minp\u001b[0m \u001b[0;34m=\u001b[0m \u001b[0msys\u001b[0m\u001b[0;34m.\u001b[0m\u001b[0mstdin\u001b[0m\u001b[0;34m\u001b[0m\u001b[0;34m\u001b[0m\u001b[0m\n\u001b[1;32m      7\u001b[0m \u001b[0;32melse\u001b[0m\u001b[0;34m:\u001b[0m\u001b[0;34m\u001b[0m\u001b[0;34m\u001b[0m\u001b[0m\n\u001b[0;32m----> 8\u001b[0;31m     \u001b[0minp\u001b[0m \u001b[0;34m=\u001b[0m \u001b[0mopen\u001b[0m\u001b[0;34m(\u001b[0m\u001b[0min_file\u001b[0m\u001b[0;34m,\u001b[0m \u001b[0;34m'rU'\u001b[0m\u001b[0;34m)\u001b[0m\u001b[0;34m\u001b[0m\u001b[0;34m\u001b[0m\u001b[0m\n\u001b[0m",
      "\u001b[0;31mFileNotFoundError\u001b[0m: [Errno 2] No such file or directory: '-f'"
     ]
    }
   ],
   "source": [
    "if len(sys.argv) != 3:\n",
    "    sys_exit(\"Expect two argument: input HMMER table, output tabular file\")\n",
    "in_file, out_file = sys.argv[1:]\n",
    "\n",
    "if in_file == \"-\":\n",
    "    inp = sys.stdin\n",
    "else:\n",
    "    inp = open(in_file, 'rU')"
   ]
  },
  {
   "cell_type": "code",
   "execution_count": null,
   "metadata": {},
   "outputs": [],
   "source": [
    "#need to define what we want to run"
   ]
  },
  {
   "cell_type": "code",
   "execution_count": null,
   "metadata": {},
   "outputs": [],
   "source": [
    "if out_file == \"-\":\n",
    "    out = sys.stdout\n",
    "else:\n",
    "    out = open(out_file, \"w\")\n",
    "count = convert(inp, out)\n",
    "\n",
    "if in_file != \"-\":\n",
    "    inp.close()\n",
    "if output_file ! = \"-\":\n",
    "    out.close()\n",
    "    print(\"Converted table with %i lines %count\")\n"
   ]
  },
  {
   "cell_type": "code",
   "execution_count": 5,
   "metadata": {},
   "outputs": [
    {
     "name": "stdout",
     "output_type": "stream",
     "text": [
      "#                                                               --- full sequence ---- --- best 1 domain ---- --- domain number estimation ----\n",
      "\n",
      "# target name        accession  query name           accession    E-value  score  bias   E-value  score  bias   exp reg clu  ov env dom rep inc description of target\n",
      "\n",
      "#------------------- ---------- -------------------- ---------- --------- ------ ----- --------- ------ -----   --- --- --- --- --- --- --- --- ---------------------\n",
      "\n",
      "adi_v1.14729         -          PF01582_full_up      -            5.8e-37  128.1   2.2     1e-36  127.3   2.2   1.3   1   0   0   1   1   1   1 -\n",
      "\n",
      "adi_v1.24300         -          PF01582_full_up      -            1.5e-34  120.2   2.4   2.3e-34  119.6   2.4   1.2   1   0   0   1   1   1   1 -\n",
      "\n",
      "adi_v1.14728         -          PF01582_full_up      -            4.2e-34  118.7   2.9   7.2e-34  117.9   2.9   1.3   1   0   0   1   1   1   1 -\n",
      "\n",
      "adi_v1.20813         -          PF01582_full_up      -            3.4e-32  112.4   1.9   8.2e-32  111.2   1.9   1.6   1   0   0   1   1   1   1 -\n",
      "\n",
      "adi_v1.04319         -          PF01582_full_up      -              3e-28   99.5   1.5   3.4e-28   99.3   1.5   1.1   1   0   0   1   1   1   1 -\n",
      "\n",
      "adi_v1.11844         -          PF01582_full_up      -            4.8e-28   98.8   0.7   7.1e-28   98.2   0.7   1.2   1   0   0   1   1   1   1 -\n",
      "\n",
      "adi_v1.19280         -          PF01582_full_up      -            9.4e-28   97.8   0.1   9.4e-28   97.8   0.1   1.9   2   1   0   2   2   2   1 -\n",
      "\n",
      "adi_v1.18624         -          PF01582_full_up      -              3e-26   92.9   0.2   3.9e-26   92.5   0.2   1.1   1   0   0   1   1   1   1 -\n",
      "\n",
      "adi_v1.00358         -          PF01582_full_up      -            3.5e-26   92.7   1.2   4.4e-26   92.4   1.2   1.1   1   0   0   1   1   1   1 -\n",
      "\n",
      "adi_v1.15876         -          PF01582_full_up      -            8.4e-26   91.4   0.7   1.1e-25   91.1   0.7   1.1   1   0   0   1   1   1   1 -\n",
      "\n",
      "adi_v1.11406         -          PF01582_full_up      -              2e-25   90.2   2.6   2.2e-25   90.1   2.6   1.1   1   0   0   1   1   1   1 -\n",
      "\n",
      "adi_v1.02686         -          PF01582_full_up      -            2.6e-25   89.8   1.1   2.9e-25   89.7   1.1   1.1   1   0   0   1   1   1   1 -\n",
      "\n",
      "adi_v1.20402         -          PF01582_full_up      -            2.6e-23   83.3   2.2   3.9e-23   82.7   2.2   1.2   1   0   0   1   1   1   1 -\n",
      "\n",
      "adi_v1.16874         -          PF01582_full_up      -              3e-21   76.5   0.4     3e-21   76.5   0.4   1.8   2   0   0   2   2   2   1 -\n",
      "\n",
      "adi_v1.24591         -          PF01582_full_up      -            3.9e-21   76.1   0.1   8.1e-21   75.1   0.1   1.4   1   0   0   1   1   1   1 -\n",
      "\n",
      "adi_v1.05635         -          PF01582_full_up      -            4.2e-21   76.0   1.0   6.4e-21   75.4   1.0   1.2   1   0   0   1   1   1   1 -\n",
      "\n",
      "adi_v1.08563         -          PF01582_full_up      -            8.6e-19   68.4   2.2   1.2e-18   68.0   2.2   1.1   1   0   0   1   1   1   1 -\n",
      "\n",
      "adi_v1.14217         -          PF01582_full_up      -            2.3e-18   67.0   0.2   4.2e-18   66.2   0.2   1.4   1   0   0   1   1   1   1 -\n",
      "\n",
      "adi_v1.01135         -          PF01582_full_up      -            3.4e-17   63.2   0.0     4e-17   62.9   0.0   1.0   1   0   0   1   1   1   1 -\n",
      "\n",
      "adi_v1.10451         -          PF01582_full_up      -            7.4e-17   62.1   0.7   1.2e-16   61.4   0.7   1.3   1   0   0   1   1   1   1 -\n",
      "\n",
      "adi_v1.10450         -          PF01582_full_up      -            1.6e-14   54.4   1.1     2e-14   54.1   1.1   1.2   1   0   0   1   1   1   1 -\n",
      "\n",
      "adi_v1.09827         -          PF01582_full_up      -            5.5e-13   49.4   1.0   9.3e-13   48.6   1.0   1.3   1   0   0   1   1   1   1 -\n",
      "\n",
      "adi_v1.09825         -          PF01582_full_up      -            9.9e-13   48.5   1.2   1.6e-12   47.8   1.2   1.3   1   0   0   1   1   1   1 -\n",
      "\n",
      "adi_v1.09826         -          PF01582_full_up      -            1.6e-12   47.8   0.5   2.9e-12   47.0   0.5   1.4   1   0   0   1   1   1   1 -\n",
      "\n",
      "adi_v1.00120         -          PF01582_full_up      -            2.5e-10   40.6   0.0     5e-10   39.7   0.0   1.4   1   0   0   1   1   1   1 -\n",
      "\n",
      "adi_v1.23366         -          PF01582_full_up      -            4.1e-10   39.9   1.1   5.3e-10   39.6   0.0   1.6   2   0   0   2   2   2   1 -\n",
      "\n",
      "adi_v1.03936         -          PF01582_full_up      -            1.5e-09   38.0   3.1    0.0021   17.9   0.1   3.1   3   0   0   3   3   3   2 -\n",
      "\n",
      "adi_v1.08379         -          PF01582_full_up      -            1.5e-07   31.5   0.0   2.8e-07   30.6   0.0   1.4   1   0   0   1   1   1   1 -\n",
      "\n",
      "adi_v1.13087         -          PF01582_full_up      -            3.3e-07   30.4   0.1   3.3e-07   30.4   0.1   1.1   1   0   0   1   1   1   1 -\n",
      "\n",
      "adi_v1.14376         -          PF01582_full_up      -            6.2e-06   26.2   2.3     2e-05   24.5   0.1   2.4   2   1   0   2   2   2   1 -\n",
      "\n",
      "adi_v1.19589         -          PF01582_full_up      -            0.00021   21.2   7.1     0.042   13.6   0.0   3.4   3   0   0   3   3   3   2 -\n",
      "\n",
      "adi_v1.14375         -          PF01582_full_up      -            0.00023   21.1   0.5    0.0063   16.3   0.0   2.1   2   0   0   2   2   2   1 -\n",
      "\n",
      "adi_v1.22465         -          PF01582_full_up      -             0.0028   17.5   0.1     0.007   16.2   0.0   1.5   1   1   0   1   1   1   1 -\n",
      "\n",
      "adi_v1.07172         -          PF01582_full_up      -             0.0032   17.3   0.0    0.0059   16.4   0.0   1.6   1   1   0   1   1   1   1 -\n",
      "\n",
      "adi_v1.23782         -          PF01582_full_up      -              0.005   16.7   0.0    0.0097   15.7   0.0   1.5   1   0   0   1   1   1   1 -\n",
      "\n",
      "adi_v1.03616         -          PF01582_full_up      -              0.024   14.4   0.0     0.029   14.1   0.0   1.2   1   0   0   1   1   1   0 -\n",
      "\n",
      "adi_v1.14443         -          PF01582_full_up      -              0.024   14.4   0.0     0.045   13.5   0.0   1.3   1   0   0   1   1   1   0 -\n",
      "\n",
      "adi_v1.07723         -          PF01582_full_up      -              0.089   12.5   0.0      0.19   11.5   0.0   1.6   1   0   0   1   1   1   0 -\n",
      "\n",
      "adi_v1.13147         -          PF01582_full_up      -                5.1    6.8  15.4       9.7    5.9  15.4   1.5   1   0   0   1   1   1   0 -\n",
      "\n",
      "#\n",
      "\n",
      "# Program:         hmmsearch\n",
      "\n",
      "# Version:         3.3.2 (Nov 2020)\n",
      "\n",
      "# Pipeline mode:   SEARCH\n",
      "\n",
      "# Query file:      ../output/PF01582_full_up.hmm\n",
      "\n",
      "# Target file:     /home/manager/TIR_A_dig/input/genomes/adig_pep_upper.fna\n",
      "\n",
      "# Option settings: hmmsearch --tblout ../output/adig_pep_upper_hmmer_results.txt ../output/PF01582_full_up.hmm /home/manager/TIR_A_dig/input/genomes/adig_pep_upper.fna \n",
      "\n",
      "# Current dir:     /home/manager/TIR_A_dig/procedure\n",
      "\n",
      "# Date:            Fri May  7 21:29:43 2021\n",
      "\n",
      "# [ok]\n",
      "\n"
     ]
    }
   ],
   "source": [
    "handle = \"../output/adig_pep_upper_hmmer_results.txt\"\n",
    "handle_open = open(handle)\n",
    "for line in handle_open:\n",
    "    print(line)\n",
    "for record in SearchIO.parse(handle_open,'hmmer3-text'):\n",
    "    for item in record.hits:\n",
    "        print(item)\n",
    "    print(\"Hi I can't print\")"
   ]
  },
  {
   "cell_type": "code",
   "execution_count": 36,
   "metadata": {},
   "outputs": [
    {
     "name": "stdout",
     "output_type": "stream",
     "text": [
      "First line done\n"
     ]
    }
   ],
   "source": [
    "with open (\"../output/adig_pep_upper_hmmer_results.txt\", 'r') as handle:\n",
    "    print(\"First line done\")\n",
    "    for record in SearchIO.parse (handle, 'hmmer3-text'):\n",
    "        print(\"we start the loop\")\n",
    "        \n",
    "        query_id = record.id #seq id from fasta\n",
    "        hits = records.hits\n",
    "        num_hits = len(hits) #how many pfam hits per queries?\n",
    "        \n",
    "        print(\"I got to here.\")\n",
    "        \n",
    "        if num_hits > 0 : #if there are more than 0 hits per query than we need to extract the info\n",
    "            for i in range (0,num_hits):\n",
    "                hmm_name = hits[i].id #hit name\n",
    "                hmm_description = hits[i].description #hit description\n",
    "                current_evalue = hits[i].evalue #evalue of hit\n",
    "                print (\"Hi there!\")\n",
    "                print(f\"Here are the parsed results ''+ {hmm_name} + '' + {hmm_description} + '' + {current_evalue}\")\n",
    "                \n",
    "                \n",
    "        \n",
    "   # handle.close() #close file"
   ]
  },
  {
   "cell_type": "code",
   "execution_count": null,
   "metadata": {},
   "outputs": [],
   "source": []
  }
 ],
 "metadata": {
  "kernelspec": {
   "display_name": "Python 3",
   "language": "python",
   "name": "python3"
  },
  "language_info": {
   "codemirror_mode": {
    "name": "ipython",
    "version": 3
   },
   "file_extension": ".py",
   "mimetype": "text/x-python",
   "name": "python",
   "nbconvert_exporter": "python",
   "pygments_lexer": "ipython3",
   "version": "3.8.5"
  }
 },
 "nbformat": 4,
 "nbformat_minor": 4
}
