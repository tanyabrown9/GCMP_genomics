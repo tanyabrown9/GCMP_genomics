{
 "cells": [
  {
   "cell_type": "markdown",
   "id": "62ea0e73",
   "metadata": {},
   "source": [
    "# Transdecoder to HMMER TIR domain code"
   ]
  },
  {
   "cell_type": "markdown",
   "id": "19d5bceb-66d3-40dd-9bd7-da7d783c7bbd",
   "metadata": {},
   "source": [
    "This code will unzip Symbiodiniaceae or Coral genomes dowloaded from NCBI in a \".fna\" final format. Next Genomes are translated using transdecoder and then finaly run though HMMER searching for TIR domains. TIR domain file was downloaded from the Pfam online database."
   ]
  },
  {
   "cell_type": "code",
   "execution_count": 1,
   "id": "83ffbd0b",
   "metadata": {},
   "outputs": [],
   "source": [
    "#Unzip the symbiodinium or coral genomes\n",
    "#!/bash\n",
    "import os\n",
    "genome_dir = \"../input/genome_raw\"\n",
    "for genome in os.listdir(genome_dir):\n",
    "    if not genome.endswith(\".gz\"):\n",
    "        continue\n",
    "    unzip_file_path = os.path.join(genome_dir,genome)\n",
    "    !gzip -d {unzip_file_path}\n"
   ]
  },
  {
   "cell_type": "markdown",
   "id": "da8a18a5-589e-40a3-a4a6-07dcaca5fcb6",
   "metadata": {},
   "source": [
    "# Run transdecoder on genome files downloaded from NCBI\n",
    "Note that the output files are generated in the location of the code script. In this case the procedure\n",
    "folder."
   ]
  },
  {
   "cell_type": "code",
   "execution_count": 2,
   "id": "eaef0ab9",
   "metadata": {},
   "outputs": [
    {
     "name": "stdout",
     "output_type": "stream",
     "text": [
      "Finding the longest open reading frame for ../input/genome_raw/A_aurita_genomic.fna\n",
      "^C\n",
      "Finding the longest open reading frame for ../input/genome_raw/G_fascicularis_final_1.0.fna\n",
      "^C\n",
      "Finding the longest open reading frame for ../input/genome_raw/P_verrucosa_v1.0_genomic.fna\n",
      "^C\n",
      "Finding the longest open reading frame for ../input/genome_raw/Aiptasia_genome_1.1_genomic.fna\n",
      "^C\n",
      "Finding the longest open reading frame for ../input/genome_raw/Fungia_final_1.0.fna\n",
      "^C\n",
      "Finding the longest open reading frame for ../input/genome_raw/A_hyactintus_1.0_genomic.fna\n",
      "^C\n",
      "Finding the longest open reading frame for ../input/genome_raw/P_damicornis_v1_genomic.fna\n",
      "^C\n",
      "Finding the longest open reading frame for ../input/genome_raw/A_cytherea_1.0_genomic.fna\n",
      "^C\n",
      "Finding the longest open reading frame for ../input/genome_raw/O_faveolata_v1_genomic.fna\n",
      "^C\n",
      "Finding the longest open reading frame for ../input/genome_raw/p_lutea_final_2.1.fna\n",
      "^C\n",
      "Finding the longest open reading frame for ../input/genome_raw/S_pistillata_v1_genomic.fna\n",
      "^C\n",
      "Finding the longest open reading frame for ../input/genome_raw/xenSp1.scaffolds.fna\n",
      "^C\n"
     ]
    }
   ],
   "source": [
    "#run transdecoder\n",
    "#!/bash\n",
    "import os\n",
    "genome_dir = \"../input/genome_raw\"\n",
    "for genome in os.listdir(genome_dir):\n",
    "    if not genome.endswith(\".fna\"):\n",
    "        continue\n",
    "    transdecoder_file_path = os.path.join(genome_dir,genome)\n",
    "    \n",
    "    print(f\"Finding the longest open reading frame for {transdecoder_file_path}\") \n",
    "    \n",
    "    !TransDecoder.LongOrfs -t {transdecoder_file_path} > /dev/null 2>&1"
   ]
  },
  {
   "cell_type": "markdown",
   "id": "842d8532-ac0f-4dda-9b36-884b28516dc3",
   "metadata": {},
   "source": [
    "# Move the files generated from transdecoder \n",
    "Move all transdecoder files in the procedure folder to output/transdecoder_part1.\n",
    "Move the transdecoder \"longest_orfs.pep\" file (in the transdecoder_dir file folder) to input/genomes/longest_orfs/transdecoder_part1."
   ]
  },
  {
   "cell_type": "code",
   "execution_count": null,
   "id": "5e7dd7ae",
   "metadata": {},
   "outputs": [],
   "source": [
    "#example moving script\n",
    "!cp ../procedure/genome_raw/GCA_000507305.1_ASM50730v1_genomic.fna.transdecoder_dir/longest_orfs.pep ../input/genomes/B_minutum.fasta"
   ]
  },
  {
   "cell_type": "markdown",
   "id": "bf9180ac",
   "metadata": {},
   "source": [
    "# Run HMMER"
   ]
  },
  {
   "cell_type": "markdown",
   "id": "d6222b93",
   "metadata": {},
   "source": [
    "Build a HMM profile using the TIR domain from Pfam"
   ]
  },
  {
   "cell_type": "code",
   "execution_count": 3,
   "id": "3d252696",
   "metadata": {},
   "outputs": [
    {
     "name": "stdout",
     "output_type": "stream",
     "text": [
      "Building a HMM profile from: {pfam_domain_filepath}\n",
      "Building HMM profile: ../output/PF01582_full_up_profile.hmm\n"
     ]
    }
   ],
   "source": [
    "#!/bash\n",
    "import os\n",
    "pfam_domain_dir = \"../input/domains\"\n",
    "output_dir = \"../output\"\n",
    "for domain in os.listdir(pfam_domain_dir):\n",
    "    if not domain.endswith(\".sto\"):\n",
    "        continue\n",
    "    pfam_domain_filepath = os.path.join(pfam_domain_dir, domain)\n",
    "    \n",
    "    print(\"Building a HMM profile from: {pfam_domain_filepath}\")\n",
    "    #need to split the file name\n",
    "    base_filename = os.path.splitext(domain)[0]\n",
    "    \n",
    "    #build the hmmer profile for each domain in the folder and save the file\n",
    "    output_filepath = os.path.join(output_dir, f\"{base_filename}_profile.hmm\")\n",
    "    \n",
    "    !echo \"Building HMM profile: {output_filepath}\"\n",
    "    \n",
    "    !hmmbuild {output_filepath} {pfam_domain_filepath} > /dev/null 2>&1"
   ]
  },
  {
   "cell_type": "markdown",
   "id": "2cdcfe8f-84d8-4a37-b58e-b14f271540c0",
   "metadata": {},
   "source": [
    "Search the transdecoder longest_orfs file for each genome against the TIR domain."
   ]
  },
  {
   "cell_type": "code",
   "execution_count": 4,
   "id": "06514604",
   "metadata": {},
   "outputs": [
    {
     "name": "stdout",
     "output_type": "stream",
     "text": [
      "Running HMM search on genome ../input/genomes/longest_orfs/transdecoder_part1/A_cytherea_longest_orfs.pep\n",
      "Running HMM search using HMM file ../output/PF01582_full_up_profile.hmm\n",
      "Generating output file path ../output/A_cytherea_longest_orfs_hmmer_results.txt\n",
      "Running HMM search on genome ../input/genomes/longest_orfs/transdecoder_part1/Aiptasia_longest_orfs.pep\n",
      "Running HMM search using HMM file ../output/PF01582_full_up_profile.hmm\n",
      "Generating output file path ../output/Aiptasia_longest_orfs_hmmer_results.txt\n",
      "Running HMM search on genome ../input/genomes/longest_orfs/transdecoder_part1/A_aurita_longest_orfs.pep\n",
      "Running HMM search using HMM file ../output/PF01582_full_up_profile.hmm\n",
      "Generating output file path ../output/A_aurita_longest_orfs_hmmer_results.txt\n",
      "Running HMM search on genome ../input/genomes/longest_orfs/transdecoder_part1/P_lutea_longest_orfs.pep\n",
      "Running HMM search using HMM file ../output/PF01582_full_up_profile.hmm\n",
      "Generating output file path ../output/P_lutea_longest_orfs_hmmer_results.txt\n",
      "Running HMM search on genome ../input/genomes/longest_orfs/transdecoder_part1/Fungia_longest_orfs.pep\n",
      "Running HMM search using HMM file ../output/PF01582_full_up_profile.hmm\n",
      "Generating output file path ../output/Fungia_longest_orfs_hmmer_results.txt\n",
      "Running HMM search on genome ../input/genomes/longest_orfs/transdecoder_part1/G_fascicularis_longest_orfs.pep\n",
      "Running HMM search using HMM file ../output/PF01582_full_up_profile.hmm\n",
      "Generating output file path ../output/G_fascicularis_longest_orfs_hmmer_results.txt\n",
      "Running HMM search on genome ../input/genomes/longest_orfs/transdecoder_part1/P_damicornis_longest_orfs.pep\n",
      "Running HMM search using HMM file ../output/PF01582_full_up_profile.hmm\n",
      "Generating output file path ../output/P_damicornis_longest_orfs_hmmer_results.txt\n",
      "Running HMM search on genome ../input/genomes/longest_orfs/transdecoder_part1/O_faveolata_longest_orfs.pep\n",
      "Running HMM search using HMM file ../output/PF01582_full_up_profile.hmm\n",
      "Generating output file path ../output/O_faveolata_longest_orfs_hmmer_results.txt\n",
      "Running HMM search on genome ../input/genomes/longest_orfs/transdecoder_part1/P_verrucosa_longest_orfs.pep\n",
      "Running HMM search using HMM file ../output/PF01582_full_up_profile.hmm\n",
      "Generating output file path ../output/P_verrucosa_longest_orfs_hmmer_results.txt\n",
      "Running HMM search on genome ../input/genomes/longest_orfs/transdecoder_part1/Xen_longest_orfs.pep\n",
      "Running HMM search using HMM file ../output/PF01582_full_up_profile.hmm\n",
      "Generating output file path ../output/Xen_longest_orfs_hmmer_results.txt\n",
      "Running HMM search on genome ../input/genomes/longest_orfs/transdecoder_part1/S_pistillata_longest_orfs.pep\n",
      "Running HMM search using HMM file ../output/PF01582_full_up_profile.hmm\n",
      "Generating output file path ../output/S_pistillata_longest_orfs_hmmer_results.txt\n",
      "Running HMM search on genome ../input/genomes/longest_orfs/transdecoder_part1/A_hyactintus_longest_orfs.pep\n",
      "Running HMM search using HMM file ../output/PF01582_full_up_profile.hmm\n",
      "Generating output file path ../output/A_hyactintus_longest_orfs_hmmer_results.txt\n"
     ]
    }
   ],
   "source": [
    "import os\n",
    "#search transdecoder file for TIR domains and save them\n",
    "genome_dir = \"../input/genomes/longest_orfs/transdecoder_part1\"\n",
    "hmm_dir = \"../output/\"\n",
    "output_dir =\"../output\"\n",
    "for hmm_file in os.listdir(hmm_dir):\n",
    "    if not hmm_file.endswith(\".hmm\"):\n",
    "            continue\n",
    "    hmm_filepath = os.path.join(hmm_dir,hmm_file)\n",
    " \n",
    "    for genome_file in os.listdir(genome_dir):\n",
    "        if not genome_file.endswith(\".pep\"):\n",
    "            continue\n",
    "        cnidarian_pep_filepath=os.path.join(genome_dir,genome_file)\n",
    "        \n",
    "        print(f\"Running HMM search on genome {cnidarian_pep_filepath}\")\n",
    "        print(f\"Running HMM search using HMM file {hmm_filepath}\")\n",
    "       \n",
    "        cnidarian_pep_split = os.path.splitext(genome_file)[0]\n",
    "        \n",
    "        output_file = f\"{cnidarian_pep_split}_hmmer_results.txt\"\n",
    "        output_filepath = os.path.join(output_dir, output_file)\n",
    "        print(f\"Generating output file path {output_filepath}\")\n",
    "        \n",
    "        !hmmsearch --tblout {output_filepath} {hmm_filepath} {cnidarian_pep_filepath} > /dev/null 2>&1\n"
   ]
  },
  {
   "cell_type": "code",
   "execution_count": null,
   "id": "ab0ded72-40b0-475f-9cf8-cacccab0d0e8",
   "metadata": {},
   "outputs": [],
   "source": []
  },
  {
   "cell_type": "code",
   "execution_count": null,
   "id": "1a5fc246-efb2-4ae7-a1ec-961e7b52c8f3",
   "metadata": {},
   "outputs": [],
   "source": []
  }
 ],
 "metadata": {
  "kernelspec": {
   "display_name": "Python 3",
   "language": "python",
   "name": "python3"
  },
  "language_info": {
   "codemirror_mode": {
    "name": "ipython",
    "version": 3
   },
   "file_extension": ".py",
   "mimetype": "text/x-python",
   "name": "python",
   "nbconvert_exporter": "python",
   "pygments_lexer": "ipython3",
   "version": "3.8.10"
  }
 },
 "nbformat": 4,
 "nbformat_minor": 5
}
