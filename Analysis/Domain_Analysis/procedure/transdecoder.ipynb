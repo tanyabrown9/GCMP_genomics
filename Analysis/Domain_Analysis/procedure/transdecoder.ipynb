{
 "cells": [
  {
   "cell_type": "code",
   "execution_count": null,
   "id": "475f6b30-9034-4beb-8145-0f5121dc965d",
   "metadata": {},
   "outputs": [],
   "source": []
  },
  {
   "cell_type": "markdown",
   "id": "7c23b579-c939-4f0d-83c8-dc13d1d120c4",
   "metadata": {},
   "source": [
    "# Transdecoder Code"
   ]
  },
  {
   "cell_type": "markdown",
   "id": "5435b310-8d0b-4b2b-9848-eedbce4e4774",
   "metadata": {},
   "source": [
    "This code will unzip Symbiodiniaceae or Coral genomes dowloaded from NCBI in a \".fna\" final format. Genomes are translated using transdecoder that will be used for Pfam domain searches in HMMER."
   ]
  },
  {
   "cell_type": "code",
   "execution_count": 1,
   "id": "a2cc4a00-aaf5-4a9a-bb9c-919f10845831",
   "metadata": {},
   "outputs": [],
   "source": [
    "#Unzip the symbiodinium or coral genomes\n",
    "#!/bash\n",
    "import os\n",
    "genome_dir = \"../input/genome_raw\"\n",
    "for genome in os.listdir(genome_dir):\n",
    "    if not genome.endswith(\".gz\"):\n",
    "        continue\n",
    "    unzip_file_path = os.path.join(genome_dir,genome)\n",
    "    !gzip -d {unzip_file_path}\n"
   ]
  },
  {
   "cell_type": "markdown",
   "id": "9004f0d8-ca24-4236-80f3-ead54f28d703",
   "metadata": {},
   "source": [
    "# Run transdecoder on genome files downloaded from NCBI\n",
    "Note that the output files are generated in the location of the code script. In this case the procedure\n",
    "folder."
   ]
  },
  {
   "cell_type": "code",
   "execution_count": 2,
   "id": "f7f88a52-4d21-4ec6-8af9-6af3cf729b41",
   "metadata": {},
   "outputs": [
    {
     "name": "stdout",
     "output_type": "stream",
     "text": [
      "Finding the longest open reading frame for ../input/genome_raw/P_rus_genomic.fna\n",
      "Finding the longest open reading frame for ../input/genome_raw/M_capitata_genomic.fna\n",
      "Finding the longest open reading frame for ../input/genome_raw/M_cactus_genomic.fna\n",
      "Finding the longest open reading frame for ../input/genome_raw/M_efflorescens_genomic.fna\n"
     ]
    }
   ],
   "source": [
    "#run transdecoder\n",
    "#!/bash\n",
    "import os\n",
    "genome_dir = \"../input/genome_raw\"\n",
    "for genome in os.listdir(genome_dir):\n",
    "    if not genome.endswith(\".fna\"):\n",
    "        continue\n",
    "    transdecoder_file_path = os.path.join(genome_dir,genome)\n",
    "    \n",
    "    print(f\"Finding the longest open reading frame for {transdecoder_file_path}\") \n",
    "    \n",
    "    !TransDecoder.LongOrfs -t {transdecoder_file_path} > /dev/null 2>&1"
   ]
  },
  {
   "cell_type": "markdown",
   "id": "47b6d6bb-98c6-4059-b267-d967ed6d690d",
   "metadata": {},
   "source": [
    "# Move the files generated from transdecoder \n",
    "Move all transdecoder files in the procedure folder to output/transdecoder_part1 in the appropriate folder for the organism used (ie Symbiodiniacea or Coral).\n",
    "Move the transdecoder \"longest_orfs.pep\" file (in the transdecoder_dir file folder) to input/genomes/longest_orfs/transdecoder_part1 into the apropriate folder for the organism used (ie Symbiodiniaceae or Coral)."
   ]
  },
  {
   "cell_type": "code",
   "execution_count": null,
   "id": "0499f405-00cf-4aed-9cb9-88b41bca3fcc",
   "metadata": {},
   "outputs": [],
   "source": [
    "#example moving script\n",
    "!cp ../procedure/genome_raw/GCA_000507305.1_ASM50730v1_genomic.fna.transdecoder_dir/longest_orfs.pep ../input/genomes/B_minutum.fasta"
   ]
  }
 ],
 "metadata": {
  "kernelspec": {
   "display_name": "Python 3",
   "language": "python",
   "name": "python3"
  },
  "language_info": {
   "codemirror_mode": {
    "name": "ipython",
    "version": 3
   },
   "file_extension": ".py",
   "mimetype": "text/x-python",
   "name": "python",
   "nbconvert_exporter": "python",
   "pygments_lexer": "ipython3",
   "version": "3.8.10"
  }
 },
 "nbformat": 4,
 "nbformat_minor": 5
}
