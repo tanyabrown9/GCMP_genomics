{
 "cells": [
  {
   "cell_type": "markdown",
   "id": "b605b286-26cf-4359-a99c-3be22e9fb9e2",
   "metadata": {},
   "source": [
    "#This code will count the number of \"start codon\" sequences in the GTF files created by Breaker 3"
   ]
  },
  {
   "cell_type": "code",
   "execution_count": 60,
   "id": "84c09677-14e2-4f9e-bf05-66520e581ecd",
   "metadata": {},
   "outputs": [],
   "source": [
    "import pandas as pd\n",
    "from gtfparse import read_gtf\n",
    "from os.path import exists, join\n",
    "import pdb\n",
    "import os\n",
    "import re\n",
    "import csv"
   ]
  },
  {
   "cell_type": "code",
   "execution_count": 61,
   "id": "d79fee03-a3d4-42b6-8cd6-6020c0476bb9",
   "metadata": {},
   "outputs": [],
   "source": [
    "#import the gtf file and convert it to a pandas data frame\n",
    "input_dir_braker3 = \"../output/braker3_output/\"\n",
    "input_dir = \"../input/\"\n",
    "output_file = \"braker3_start_codon_count.tsv\"\n",
    "#file = \"../output/braker3_output/a_cytherea_soft_mask_braker_filtered.gtf\"\n",
    "output_dir = \"../output/braker3_output/\"\n",
    "output_filepath = join(output_dir,output_file)\n",
    "#pd = read_gtf(file)\n",
    "#df - pd.DataFrame(file_read)"
   ]
  },
  {
   "cell_type": "code",
   "execution_count": 62,
   "id": "0289efbc-fbc1-4054-97e1-ceb6528fb3b5",
   "metadata": {},
   "outputs": [],
   "source": [
    "#prepare the output file for the loop by adding column names\n",
    "column_names = [\"Species_file\", \"Number_start_codon\"]\n",
    "with open(output_filepath, 'w') as output_file:\n",
    "    output_file.write(\"%s\" % \"\\t\".join(column_names)+\"\\n\")"
   ]
  },
  {
   "cell_type": "code",
   "execution_count": 63,
   "id": "4f73cb2c-d381-4523-9f13-c70bfd1cc1cc",
   "metadata": {},
   "outputs": [
    {
     "name": "stdout",
     "output_type": "stream",
     "text": [
      "g_fascicularis_soft_mask_braker.gtf\n"
     ]
    },
    {
     "name": "stderr",
     "output_type": "stream",
     "text": [
      "INFO:root:Extracted GTF attributes: ['transcript_id', 'gene_id']\n"
     ]
    },
    {
     "name": "stdout",
     "output_type": "stream",
     "text": [
      "The number of start codons are: 34305\n",
      "p_rus_soft_mask_braker_filtered.gtf\n"
     ]
    },
    {
     "name": "stderr",
     "output_type": "stream",
     "text": [
      "INFO:root:Extracted GTF attributes: ['transcript_id', 'gene_id']\n"
     ]
    },
    {
     "name": "stdout",
     "output_type": "stream",
     "text": [
      "The number of start codons are: 28599\n",
      "p_speciosa_soft_mask_braker.gtf\n"
     ]
    },
    {
     "name": "stderr",
     "output_type": "stream",
     "text": [
      "INFO:root:Extracted GTF attributes: ['transcript_id', 'gene_id']\n"
     ]
    },
    {
     "name": "stdout",
     "output_type": "stream",
     "text": [
      "The number of start codons are: 79291\n",
      "p_damicornis_soft_mask_braker_filtered.gtf\n"
     ]
    },
    {
     "name": "stderr",
     "output_type": "stream",
     "text": [
      "INFO:root:Extracted GTF attributes: ['transcript_id', 'gene_id']\n"
     ]
    },
    {
     "name": "stdout",
     "output_type": "stream",
     "text": [
      "The number of start codons are: 23463\n",
      "p_lutea_soft_mask_braker_filtered.gtf\n"
     ]
    },
    {
     "name": "stderr",
     "output_type": "stream",
     "text": [
      "INFO:root:Extracted GTF attributes: ['transcript_id', 'gene_id']\n"
     ]
    },
    {
     "name": "stdout",
     "output_type": "stream",
     "text": [
      "The number of start codons are: 38390\n",
      "a_cyhterea_soft_mask_braker.gtf\n"
     ]
    },
    {
     "name": "stderr",
     "output_type": "stream",
     "text": [
      "INFO:root:Extracted GTF attributes: ['transcript_id', 'gene_id']\n"
     ]
    },
    {
     "name": "stdout",
     "output_type": "stream",
     "text": [
      "The number of start codons are: 36550\n",
      "p_damicornis_soft_mask_braker.gtf\n"
     ]
    },
    {
     "name": "stderr",
     "output_type": "stream",
     "text": [
      "INFO:root:Extracted GTF attributes: ['transcript_id', 'gene_id']\n"
     ]
    },
    {
     "name": "stdout",
     "output_type": "stream",
     "text": [
      "The number of start codons are: 26852\n",
      "a_cytherea_soft_mask_braker_filtered.gtf\n"
     ]
    },
    {
     "name": "stderr",
     "output_type": "stream",
     "text": [
      "INFO:root:Extracted GTF attributes: ['transcript_id', 'gene_id']\n"
     ]
    },
    {
     "name": "stdout",
     "output_type": "stream",
     "text": [
      "The number of start codons are: 31428\n",
      "d_cribrosa_soft_mask_braker.gtf\n"
     ]
    },
    {
     "name": "stderr",
     "output_type": "stream",
     "text": [
      "INFO:root:Extracted GTF attributes: ['transcript_id', 'gene_id']\n"
     ]
    },
    {
     "name": "stdout",
     "output_type": "stream",
     "text": [
      "The number of start codons are: 47998\n",
      "m_capitata_soft_mask_braker.gtf\n"
     ]
    },
    {
     "name": "stderr",
     "output_type": "stream",
     "text": [
      "INFO:root:Extracted GTF attributes: ['transcript_id', 'gene_id']\n"
     ]
    },
    {
     "name": "stdout",
     "output_type": "stream",
     "text": [
      "The number of start codons are: 46533\n",
      "fungia_soft_mask_braker_filtered.gtf\n"
     ]
    },
    {
     "name": "stderr",
     "output_type": "stream",
     "text": [
      "INFO:root:Extracted GTF attributes: ['transcript_id', 'gene_id']\n"
     ]
    },
    {
     "name": "stdout",
     "output_type": "stream",
     "text": [
      "The number of start codons are: 43115\n",
      "g_aspera_soft_mask_braker.gtf\n"
     ]
    },
    {
     "name": "stderr",
     "output_type": "stream",
     "text": [
      "INFO:root:Extracted GTF attributes: ['transcript_id', 'gene_id']\n"
     ]
    },
    {
     "name": "stdout",
     "output_type": "stream",
     "text": [
      "The number of start codons are: 53731\n",
      "p_sinensis_soft_mask_braker.gtf\n"
     ]
    },
    {
     "name": "stderr",
     "output_type": "stream",
     "text": [
      "INFO:root:Extracted GTF attributes: ['transcript_id', 'gene_id']\n"
     ]
    },
    {
     "name": "stdout",
     "output_type": "stream",
     "text": [
      "The number of start codons are: 86243\n",
      "m_capitata_soft_mask_braker_filtered.gtf\n"
     ]
    },
    {
     "name": "stderr",
     "output_type": "stream",
     "text": [
      "INFO:root:Extracted GTF attributes: ['transcript_id', 'gene_id']\n"
     ]
    },
    {
     "name": "stdout",
     "output_type": "stream",
     "text": [
      "The number of start codons are: 41371\n",
      "p_verrucosa_soft_mask_braker.gtf\n"
     ]
    },
    {
     "name": "stderr",
     "output_type": "stream",
     "text": [
      "INFO:root:Extracted GTF attributes: ['transcript_id', 'gene_id']\n"
     ]
    },
    {
     "name": "stdout",
     "output_type": "stream",
     "text": [
      "The number of start codons are: 37537\n",
      "s_pistillata_soft_mask_braker_filtered.gtf\n"
     ]
    },
    {
     "name": "stderr",
     "output_type": "stream",
     "text": [
      "INFO:root:Extracted GTF attributes: ['transcript_id', 'gene_id']\n"
     ]
    },
    {
     "name": "stdout",
     "output_type": "stream",
     "text": [
      "The number of start codons are: 31939\n",
      "d_cribrosa_soft_mask_braker_filtered.gtf\n"
     ]
    },
    {
     "name": "stderr",
     "output_type": "stream",
     "text": [
      "INFO:root:Extracted GTF attributes: ['transcript_id', 'gene_id']\n"
     ]
    },
    {
     "name": "stdout",
     "output_type": "stream",
     "text": [
      "The number of start codons are: 43867\n",
      "p_sinensis_soft_mask_braker_filtered.gtf\n"
     ]
    },
    {
     "name": "stderr",
     "output_type": "stream",
     "text": [
      "INFO:root:Extracted GTF attributes: ['transcript_id', 'gene_id']\n"
     ]
    },
    {
     "name": "stdout",
     "output_type": "stream",
     "text": [
      "The number of start codons are: 77269\n",
      "g_fascicularis_soft_mask_braker_filtered.gtf\n"
     ]
    },
    {
     "name": "stderr",
     "output_type": "stream",
     "text": [
      "INFO:root:Extracted GTF attributes: ['transcript_id', 'gene_id']\n"
     ]
    },
    {
     "name": "stdout",
     "output_type": "stream",
     "text": [
      "The number of start codons are: 31065\n",
      "p_rus_soft_mask_braker.gtf\n"
     ]
    },
    {
     "name": "stderr",
     "output_type": "stream",
     "text": [
      "INFO:root:Extracted GTF attributes: ['transcript_id', 'gene_id']\n"
     ]
    },
    {
     "name": "stdout",
     "output_type": "stream",
     "text": [
      "The number of start codons are: 31923\n",
      "a_hyactintus_soft_mask_braker_filtered.gtf\n"
     ]
    },
    {
     "name": "stderr",
     "output_type": "stream",
     "text": [
      "INFO:root:Extracted GTF attributes: ['transcript_id', 'gene_id']\n"
     ]
    },
    {
     "name": "stdout",
     "output_type": "stream",
     "text": [
      "The number of start codons are: 31966\n",
      "p_verrucosa_soft_mask_braker_filtered.gtf\n"
     ]
    },
    {
     "name": "stderr",
     "output_type": "stream",
     "text": [
      "INFO:root:Extracted GTF attributes: ['transcript_id', 'gene_id']\n"
     ]
    },
    {
     "name": "stdout",
     "output_type": "stream",
     "text": [
      "The number of start codons are: 32697\n",
      "a_hyactintus_soft_mask_braker.gtf\n"
     ]
    },
    {
     "name": "stderr",
     "output_type": "stream",
     "text": [
      "INFO:root:Extracted GTF attributes: ['transcript_id', 'gene_id']\n"
     ]
    },
    {
     "name": "stdout",
     "output_type": "stream",
     "text": [
      "The number of start codons are: 37271\n",
      "s_pistillata_soft_mask_braker.gtf\n"
     ]
    },
    {
     "name": "stderr",
     "output_type": "stream",
     "text": [
      "INFO:root:Extracted GTF attributes: ['transcript_id', 'gene_id']\n"
     ]
    },
    {
     "name": "stdout",
     "output_type": "stream",
     "text": [
      "The number of start codons are: 35850\n",
      "p_lutea_soft_mask_braker.gtf\n"
     ]
    },
    {
     "name": "stderr",
     "output_type": "stream",
     "text": [
      "INFO:root:Extracted GTF attributes: ['transcript_id', 'gene_id']\n"
     ]
    },
    {
     "name": "stdout",
     "output_type": "stream",
     "text": [
      "The number of start codons are: 42093\n",
      "p_speciosa_soft_mask_braker_filtered.gtf\n"
     ]
    },
    {
     "name": "stderr",
     "output_type": "stream",
     "text": [
      "INFO:root:Extracted GTF attributes: ['transcript_id', 'gene_id']\n"
     ]
    },
    {
     "name": "stdout",
     "output_type": "stream",
     "text": [
      "The number of start codons are: 70887\n",
      "o_faveolata_soft_mask_braker_filtered.gtf\n"
     ]
    },
    {
     "name": "stderr",
     "output_type": "stream",
     "text": [
      "INFO:root:Extracted GTF attributes: ['transcript_id', 'gene_id']\n"
     ]
    },
    {
     "name": "stdout",
     "output_type": "stream",
     "text": [
      "The number of start codons are: 31876\n",
      "o_faveolata_soft_mask_braker.gtf\n"
     ]
    },
    {
     "name": "stderr",
     "output_type": "stream",
     "text": [
      "INFO:root:Extracted GTF attributes: ['transcript_id', 'gene_id']\n"
     ]
    },
    {
     "name": "stdout",
     "output_type": "stream",
     "text": [
      "The number of start codons are: 36018\n",
      "fungia_soft_mask_braker.gtf\n"
     ]
    },
    {
     "name": "stderr",
     "output_type": "stream",
     "text": [
      "INFO:root:Extracted GTF attributes: ['transcript_id', 'gene_id']\n"
     ]
    },
    {
     "name": "stdout",
     "output_type": "stream",
     "text": [
      "The number of start codons are: 47406\n",
      "g_aspera_soft_mask_braker_filtered.gtf\n"
     ]
    },
    {
     "name": "stderr",
     "output_type": "stream",
     "text": [
      "INFO:root:Extracted GTF attributes: ['transcript_id', 'gene_id']\n"
     ]
    },
    {
     "name": "stdout",
     "output_type": "stream",
     "text": [
      "The number of start codons are: 48429\n"
     ]
    }
   ],
   "source": [
    "for results_file in os.listdir(input_dir_braker3):\n",
    "    if not results_file.endswith('.gtf'):\n",
    "        continue\n",
    "    print(results_file)\n",
    "    results_filepath = join(input_dir_braker3, results_file)\n",
    "    braker3_gtf_df = read_gtf(results_filepath)\n",
    "    braker3_gtf_df.columns = ['isoform', 'program', 'gene_type', 'number1', 'number2', 'number3', 'pos_neg', 'position', 'transcript_id', 'column']\n",
    "    start_codon = (braker3_gtf_df['gene_type']=='start_codon').sum()\n",
    "    #print(\"The file we are analazing is:\" results_file)\n",
    "    print(f\"The number of start codons are: {start_codon}\")\n",
    "\n",
    "    #write the rusults to the file\n",
    "    with open(output_filepath, 'a') as output:\n",
    "        output_field = [(results_file), (start_codon)]\n",
    "        output.write(\"\\t\".join(map(str, output_field))+\"\\n\")\n",
    "              \n",
    "\n"
   ]
  },
  {
   "cell_type": "code",
   "execution_count": 10,
   "id": "258d765c-70f0-459e-959f-05863f7b4586",
   "metadata": {},
   "outputs": [
    {
     "ename": "AttributeError",
     "evalue": "'DataFrame' object has no attribute 'str'",
     "output_type": "error",
     "traceback": [
      "\u001b[0;31m---------------------------------------------------------------------------\u001b[0m",
      "\u001b[0;31mAttributeError\u001b[0m                            Traceback (most recent call last)",
      "\u001b[0;32m/tmp/ipykernel_15110/1134910109.py\u001b[0m in \u001b[0;36m<cell line: 3>\u001b[0;34m()\u001b[0m\n\u001b[1;32m      1\u001b[0m \u001b[0;31m# count the number of start codons in the files\u001b[0m\u001b[0;34m\u001b[0m\u001b[0;34m\u001b[0m\u001b[0;34m\u001b[0m\u001b[0m\n\u001b[1;32m      2\u001b[0m \u001b[0mphrase\u001b[0m \u001b[0;34m=\u001b[0m \u001b[0;34m\"start_codon\"\u001b[0m\u001b[0;34m\u001b[0m\u001b[0;34m\u001b[0m\u001b[0m\n\u001b[0;32m----> 3\u001b[0;31m \u001b[0mcount\u001b[0m \u001b[0;34m=\u001b[0m \u001b[0mdf\u001b[0m\u001b[0;34m.\u001b[0m\u001b[0mstr\u001b[0m\u001b[0;34m.\u001b[0m\u001b[0mcount\u001b[0m\u001b[0;34m(\u001b[0m\u001b[0mphrase\u001b[0m\u001b[0;34m)\u001b[0m\u001b[0;34m.\u001b[0m\u001b[0msum\u001b[0m\u001b[0;34m\u001b[0m\u001b[0;34m\u001b[0m\u001b[0m\n\u001b[0m",
      "\u001b[0;31mAttributeError\u001b[0m: 'DataFrame' object has no attribute 'str'"
     ]
    }
   ],
   "source": [
    "# count the number of start codons in the files\n",
    "phrase = \"start_codon\"\n",
    "count = df.str.count(phrase).sum "
   ]
  },
  {
   "cell_type": "code",
   "execution_count": null,
   "id": "2caba9f0-1307-4c83-bdf7-4f62fcd73154",
   "metadata": {},
   "outputs": [],
   "source": [
    "print(count)"
   ]
  },
  {
   "cell_type": "code",
   "execution_count": 48,
   "id": "57dfec37-e565-40b5-8fc7-0ec68c5796d4",
   "metadata": {},
   "outputs": [
    {
     "name": "stdout",
     "output_type": "stream",
     "text": [
      "shape: (7, 2)\n",
      "┌─────────────┬────────┐\n",
      "│ gene_type   ┆ count  │\n",
      "│ ---         ┆ ---    │\n",
      "│ cat         ┆ u32    │\n",
      "╞═════════════╪════════╡\n",
      "│ exon        ┆ 184540 │\n",
      "│ transcript  ┆ 32077  │\n",
      "│ stop_codon  ┆ 31508  │\n",
      "│ gene        ┆ 32077  │\n",
      "│ intron      ┆ 153203 │\n",
      "│ CDS         ┆ 184540 │\n",
      "│ start_codon ┆ 31428  │\n",
      "└─────────────┴────────┘\n"
     ]
    }
   ],
   "source": [
    "pd.columns = ['isoform', 'program', 'gene_type', 'number1', 'number2', 'number3', 'pos_neg', 'position', 'transcript_id', 'column']\n",
    "counts = pd['gene_type'].value_counts()\n",
    "#count_start = (pd['gene_type'] == 'start_codon').sum()\n",
    "print(counts)\n",
    "#print(\"Occurrences of 'sravan':\", count_start)"
   ]
  },
  {
   "cell_type": "code",
   "execution_count": null,
   "id": "fc412899-03b4-4de9-872e-65dc22fc7cd2",
   "metadata": {},
   "outputs": [],
   "source": []
  },
  {
   "cell_type": "code",
   "execution_count": 49,
   "id": "45ce9a63-aa40-4311-9299-ed00e5bafa22",
   "metadata": {},
   "outputs": [
    {
     "name": "stdout",
     "output_type": "stream",
     "text": [
      "31428\n"
     ]
    }
   ],
   "source": [
    "start_codon= (pd['gene_type']=='start_codon').sum()\n",
    "print(start_codon)"
   ]
  },
  {
   "cell_type": "code",
   "execution_count": null,
   "id": "477a61be-32f5-4f33-9f41-021113c8234b",
   "metadata": {},
   "outputs": [],
   "source": []
  }
 ],
 "metadata": {
  "kernelspec": {
   "display_name": "Python 3 (ipykernel)",
   "language": "python",
   "name": "python3"
  },
  "language_info": {
   "codemirror_mode": {
    "name": "ipython",
    "version": 3
   },
   "file_extension": ".py",
   "mimetype": "text/x-python",
   "name": "python",
   "nbconvert_exporter": "python",
   "pygments_lexer": "ipython3",
   "version": "3.8.19"
  }
 },
 "nbformat": 4,
 "nbformat_minor": 5
}
